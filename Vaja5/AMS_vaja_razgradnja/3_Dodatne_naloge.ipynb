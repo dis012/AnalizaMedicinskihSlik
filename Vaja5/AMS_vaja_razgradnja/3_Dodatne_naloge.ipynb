{
 "cells": [
  {
   "cell_type": "markdown",
   "metadata": {
    "nbgrader": {
     "grade": false,
     "grade_id": "cell-20d46912ca499e0f",
     "locked": true,
     "schema_version": 3,
     "solution": false,
     "task": false
    }
   },
   "source": [
    "## Dodatne naloge\n",
    "Dodatne naloge naj služijo za poglobitev spretnosti programiranja, boljšemu razumevanju snovi in vsebine vaje in spoznavanju dodatnih načinov za obdelavo in analizo medicinskih slik. Opravljanje dodatnih nalog je neobvezno, vendar pa priporočljivo, saj je na nek način to priprava na zagovor laboratorijskih vaj."
   ]
  },
  {
   "cell_type": "markdown",
   "metadata": {
    "nbgrader": {
     "grade": false,
     "grade_id": "cell-bc55e8ff0347b01b",
     "locked": true,
     "schema_version": 3,
     "solution": false,
     "task": false
    }
   },
   "source": [
    "1. Primerjajte delovanje funkcije `kMeanPP()` z delovanjem funkcije `ScalarImageKmeansImage()` v knjižnici `SimpleITK`. Ali dobite enak rezultat?"
   ]
  },
  {
   "cell_type": "code",
   "execution_count": null,
   "metadata": {
    "nbgrader": {
     "grade": true,
     "grade_id": "cell-b1f1349e2565d998",
     "locked": false,
     "points": 0,
     "schema_version": 3,
     "solution": true,
     "task": false
    }
   },
   "outputs": [],
   "source": [
    "# YOUR CODE HERE"
   ]
  },
  {
   "cell_type": "markdown",
   "metadata": {
    "nbgrader": {
     "grade": false,
     "grade_id": "cell-6f61a29ce89e2cfb",
     "locked": true,
     "schema_version": 3,
     "solution": false,
     "task": false
    }
   },
   "source": [
    "2. Predložite program, ki temelji na algoritmu $k$-povprečij++ in ki avtomatsko določi prostornino bele in sive možganovine na MR slikah. Prikažite delovanje na danih slikah `t1.nrrd`, `t2.nrrd` in `pd.nrrd`, pri čemer področje možganov izluščite iz maske `msk.nrrd` kot elemente večje od 0. Določite prostornino bele in sive možganovine v enoti mililiter (ml)."
   ]
  },
  {
   "cell_type": "code",
   "execution_count": null,
   "metadata": {
    "nbgrader": {
     "grade": true,
     "grade_id": "cell-9a953665f684ae2b",
     "locked": false,
     "points": 0,
     "schema_version": 3,
     "solution": true,
     "task": false
    }
   },
   "outputs": [],
   "source": [
    "# YOUR CODE HERE"
   ]
  },
  {
   "cell_type": "markdown",
   "metadata": {
    "nbgrader": {
     "grade": false,
     "grade_id": "cell-0487cd1e26717ecd",
     "locked": true,
     "schema_version": 3,
     "solution": false,
     "task": false
    }
   },
   "source": [
    "3. Napišite funkcijo izračun Diceovega koeficienta med dvema vhodnima slikama oznak `iS` in `iR`:\n",
    "```python\n",
    "def computeDiceCoeff( iS, iR ):\n",
    "    return oDSC\n",
    "```\n",
    "kjer je `oDSC` skalar. Ovrednotite razgradnjo MR slik glave s postopkom $k$-povprečij in neparametričnim razvrščanjem tako, da izračunate Diceove koeficiente med dobljenimi oznakami `iS` in referenčnimi oznakami (datoteka `msk.nrrd`) za strukture CSF, GM in WM. Navedite vrednosti $DSC_{CSF}$, $DSC_{GM}$, $DSC_{WM}$."
   ]
  },
  {
   "cell_type": "code",
   "execution_count": null,
   "metadata": {
    "nbgrader": {
     "grade": false,
     "grade_id": "cell-fb21959b077eceef",
     "locked": false,
     "schema_version": 3,
     "solution": true,
     "task": false
    }
   },
   "outputs": [],
   "source": [
    "# YOUR CODE HERE"
   ]
  },
  {
   "cell_type": "markdown",
   "metadata": {
    "nbgrader": {
     "grade": false,
     "grade_id": "cell-8ee8bb2fbe8e7894",
     "locked": true,
     "schema_version": 3,
     "solution": false,
     "task": false
    }
   },
   "source": [
    "4. Prilagodite funkcijo `mrBrainSegmentation()` tako, da za razgradnjo MR slik glave v postopku $k$-povprečij kot značilnice uporabite le sliki `t2` in `pd` ($d=2$). Razgradite MR sliki in vrednotite dobljeno razgradnjo z Diceovim koeficientom. Ali se kakorkoli spremeni kakovost razgradnje v primerjavi z razgradnjo dobljeno pri prešnji nalogi? Obrazložite odgovor."
   ]
  },
  {
   "cell_type": "code",
   "execution_count": null,
   "metadata": {
    "nbgrader": {
     "grade": true,
     "grade_id": "cell-23a0d9bf4d92d577",
     "locked": true,
     "points": 0,
     "schema_version": 3,
     "solution": false,
     "task": false
    }
   },
   "outputs": [],
   "source": [
    "# YOUR CODE HERE"
   ]
  },
  {
   "cell_type": "markdown",
   "metadata": {
    "nbgrader": {
     "grade": false,
     "grade_id": "cell-3da4b99eae307233",
     "locked": true,
     "schema_version": 3,
     "solution": false,
     "task": false
    }
   },
   "source": [
    "5. Prilagodite funkcijo `mrBrainSegmentation()` tako, da za razgradnjo MR slik glave v postopku $k$-povprečij kot značilnico uporabite le sliko `t1` ($d=1$). Razgradite MR sliko in vrednotite dobljeno razgradnjo z Diceovim koeficientom. Kakšna je kakovost razgradnje v primerjavi z razgradnjama dobljenima pri prešnjih dveh nalogah? Obrazložite odgovor."
   ]
  },
  {
   "cell_type": "code",
   "execution_count": null,
   "metadata": {
    "nbgrader": {
     "grade": false,
     "grade_id": "cell-2bd64bfbdc421eb7",
     "locked": false,
     "schema_version": 3,
     "solution": true,
     "task": false
    }
   },
   "outputs": [],
   "source": [
    "# YOUR CODE HERE"
   ]
  },
  {
   "cell_type": "markdown",
   "metadata": {
    "nbgrader": {
     "grade": false,
     "grade_id": "cell-e7be0de5e59844b4",
     "locked": true,
     "schema_version": 3,
     "solution": false,
     "task": false
    }
   },
   "source": [
    "6. Prilagodite funkcijo `mrBrainSegmentation()` tako, da bo poleg razgradnje normalnih možganskih struktur (CSF, GM in WM) omogočala tudi razgradnjo lezij.\n",
    "  - Navedite, katere MR slike ste uporabili za razgradnjo in za dobljeno razgradnjo izračunajte Diceove koeficiente za normalne možganske strukture ($DSC_{CSF}$, $DSC_{GM}$, $DSC_{WM}$) in lezije ($DSC_{LESIONS}$). Na kratko komentirajte kakovost razgradnje posameznih struktur.\n",
    "  - Določite prostornino lezij v enoti mililiter (ml) in število lezij."
   ]
  },
  {
   "cell_type": "code",
   "execution_count": null,
   "metadata": {
    "nbgrader": {
     "grade": false,
     "grade_id": "cell-d55c2b843eb2ba16",
     "locked": false,
     "schema_version": 3,
     "solution": true,
     "task": false
    }
   },
   "outputs": [],
   "source": [
    "# YOUR ANSWER HERE"
   ]
  }
 ],
 "metadata": {
  "celltoolbar": "Create Assignment",
  "kernelspec": {
   "display_name": "Python 3",
   "language": "python",
   "name": "python3"
  },
  "language_info": {
   "codemirror_mode": {
    "name": "ipython",
    "version": 3
   },
   "file_extension": ".py",
   "mimetype": "text/x-python",
   "name": "python",
   "nbconvert_exporter": "python",
   "pygments_lexer": "ipython3",
   "version": "3.6.9"
  }
 },
 "nbformat": 4,
 "nbformat_minor": 2
}
