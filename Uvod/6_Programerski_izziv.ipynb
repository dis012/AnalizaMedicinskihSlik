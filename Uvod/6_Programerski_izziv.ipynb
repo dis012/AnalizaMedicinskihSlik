{
 "cells": [
  {
   "cell_type": "markdown",
   "metadata": {
    "nbgrader": {
     "grade": false,
     "grade_id": "cell-1baec9dd7da2253c",
     "locked": true,
     "schema_version": 3,
     "solution": false,
     "task": false
    }
   },
   "source": [
    "# Filtriranje z anizotropno difuzijo\n",
    "\n",
    "## Model degradacije slike\n",
    "Postopki za odstranjevanje šuma variabilnost signala zmanjšujejo lokalno, pri čemer predpostavljajo naslednji model degradacije sivinske slike:\n",
    "\n",
    "<a id='enacba1'></a>\n",
    "\\begin{equation}\n",
    "\tf(x,y) = g(x,y) + n(x,y),\n",
    "\t\\label{eq_degradacija}\n",
    "\\end{equation}\n",
    "\n",
    "pri čemer je $f(x,y)$ zajeta, degradirana slika, $g(x,y)$ pa nedegradirana slika. Polje $n(x,y)$ predstavlja additivni šum. Pri razvoju postopkov odstranjevanja šuma je običajna predpostavka, da je pričakovana vrednost $E(\\cdot)$ za komponento additivnega šuma enaka nič ($E(n(x,y))=0$), zato člen za šum v [gornji enačbi](#enacba1) odpade:\n",
    "\n",
    "\\begin{equation}\n",
    "\tE(f(x,y)) = E(g(x,y)).\n",
    "\\end{equation}\n",
    "\n",
    "Osnovni princip zmanjševanja šuma je torej lokalno povprečenje oz. filtriranje slike. V praksi uporabljajo postopki z nelinearnim filtriranjem, ki ohranjajo robove, naprimer anizotropna difuzija (ang. *anisotropic diffusion*), bilateralni filter, nelokalno povprečenje (ang. *non-local means*), itd. [Spodnja slika](#slika1) prikazuje primer filtriranja z anizotropno difuzijo.\n",
    "\n",
    "<a id='slika1'></a>\n",
    "<img src=\"data/slika3.png\" alt=\"Primer filtriranja z anizotropno difuzijo\" style=\"float;left;width: 800px;\"/>\n",
    "\n",
    "Rezini mikro CT slike zoba pred (*levo*) in po (*desno*) zmanjšanju šuma z nelinearnim filtriranjem z anizotropno difuzijo."
   ]
  },
  {
   "cell_type": "markdown",
   "metadata": {
    "nbgrader": {
     "grade": false,
     "grade_id": "cell-14a21ccc81baff08",
     "locked": true,
     "schema_version": 3,
     "solution": false,
     "task": false
    }
   },
   "source": [
    "## Filtriranje slike in difuzija\n",
    "Filtriranje po principu difuzije temelji na rešitvi linearne enačbe transporta toplote oz. Laplaceovi enačbi:\n",
    "\n",
    "<a id='enacba-dif'></a>\n",
    "\\begin{equation}\n",
    "\t\\frac{\\partial f(x,y,t)}{\\partial t} = \\Delta f(x,y,t) = \\frac{\\partial^2 f(x,y,t)}{\\partial x^2} + \\frac{\\partial^2 f(x,y,t)}{\\partial y^2}\\,,\n",
    "\t\\label{eq_difuzija}\n",
    "\\end{equation}\n",
    "\n",
    "ki predstavlja izotropno difuzijo in katere rešitev je linearno filtriranje z Gaussovim jedrom $\\mathcal{N}(x,y |\\mu=0, \\sigma^2=t)$ z varianco $t$:\n",
    "\n",
    "\\begin{equation}\n",
    "\tf(x,y,t) = f(x,y,0) \\otimes \\mathcal{N}(x,y |\\mu=0, \\sigma^2=t)\\,,\n",
    "\\end{equation}\n",
    "\n",
    "kjer je $\\otimes$ operator konvolucije. V tem primeru s povečevanjem časa $t$ povečujemo stopnjo difuzije oz. stopnjo glajenja. \n",
    "\n",
    "## Filtriranje z anizotropno difuzijo\n",
    "Pri anizotropni difuziji želimo gladiti le na homogenih področjih in prečno na smer roba. Če [enačbo difuzije](#enacba-dif) zapišemo kot $\\partial f(x,y,t) / \\partial t = \\nabla \\cdot \\left[\\nabla f(x,y) \\right]$, kjer $\\nabla\\cdot$ predstavlja operator za divergenco, potem lahko opazimo, da v tej enačbi nastopa odvod $\\nabla f$, ki kodira jakost in smer roba. To informacijo lahko uporabimo za ohranjanje robov v sliki na način, da enačbo prilagodimo:\n",
    "\n",
    "\\begin{equation}\n",
    "\t\\frac{\\partial f(x,y,t)}{\\partial t} = \\nabla \\cdot \\left[w(\\|\\nabla f(x,y)\\|) \\nabla f(x,y) \\right]\\,,\n",
    "\t\\label{eq_anizotropna_difuzija}\t\n",
    "\\end{equation}\n",
    "\n",
    "kjer je $w(\\cdot)$ utežna funkcija. Naj bo $f_x = \\partial f(x,y) / \\partial x$ (in podobno $f_y$), potem velja $\\psi(f_x) = w(|f_x|) \\cdot f_x$, zato dobimo:\n",
    "\n",
    "\\begin{equation}\n",
    "\t\\frac{\\partial f(x,y,t)}{\\partial t} = \\frac{\\partial \\psi(f_x)}{\\partial x} + \\frac{\\partial \\psi(f_y)}{\\partial y} = \\psi'(f_x)\\cdot f_{xx} + \\psi'(f_y)\\cdot f_{yy}\\,.\n",
    "\\end{equation}\n",
    "\n",
    "Difuzija naj bo večja, ko bo $\\psi'(f_x)>0$ oz. $\\psi'(f_y)>0$ in jakost roba upada in obratno, $\\psi'(f_x)<0$ oz. $\\psi'(f_y)<0$ in jakost roba narašča. Primerni utežni funkciji, ki se pogosto uporabljata sta:\n",
    "\n",
    "\\begin{equation}\n",
    "\tw(\\|\\nabla f\\|) = \\frac{\\kappa^2}{\\kappa^2+\\|\\nabla f\\|^2} \\quad \\mathrm{ali} \\quad\n",
    "\tw(\\|\\nabla f\\|) = \\exp(-\\|\\nabla f\\|^2 / \\kappa^2)\\,.\n",
    "\t\\label{eq_weights}\n",
    "\\end{equation}\n",
    "\n",
    "[Spodnja slika](#slika2) podaja diskretno obliko enačb za implementacijo nelinearnega filtra z anizotropno difuzijo. Osnovni parametri filtra so $\\kappa$, časovni korak $dt$ in število korakov oz. iteracij $t_{max}$. Večje vrednosti $\\kappa$ zmanjšujejo anizotropičnost filtra (za $\\kappa=\\infty$ dobimo izotropen filter), časovni korak pa mora biti majhen, da velja diskretna aproksimacija. Majhen korak zahteva več iteracij za konvergenco, zato moramo velikost koraka in število iteracij ustrezno nastaviti.\n",
    "\n",
    "<a id='slika2'></a>\n",
    "<img src=\"data/slika4.png\" alt=\"Diskretna oblika enačb za implementacijo nelinearnega filtra z anizotropno difuzijo\" style=\"float;left;width: 600px;\"/>"
   ]
  },
  {
   "cell_type": "markdown",
   "metadata": {
    "nbgrader": {
     "grade": false,
     "grade_id": "cell-06859832da529b73",
     "locked": true,
     "schema_version": 3,
     "solution": false,
     "task": false
    }
   },
   "source": [
    "## Programerski izziv\n",
    "Diskretna oblika enačbe v [gornji sliki](#slika2) je primerna za direktno implementacijo filtra na osnovi gradientne anizotropne difuzije. Napišite funkcijo za zmanjševanje šuma, ki temelji na postopku gradientne anizotropne difuzije:"
   ]
  },
  {
   "cell_type": "code",
   "execution_count": 1,
   "metadata": {
    "nbgrader": {
     "grade": true,
     "grade_id": "cell-c3b551472e6a4a86",
     "locked": false,
     "points": 0,
     "schema_version": 3,
     "solution": true,
     "task": false
    }
   },
   "outputs": [],
   "source": [
    "def denoiseGradientAnisotropicDiffusion(iImage, iStep, iMaxIter, iKappa):\n",
    "    return oImage\n"
   ]
  },
  {
   "cell_type": "markdown",
   "metadata": {
    "nbgrader": {
     "grade": false,
     "grade_id": "cell-8e533ada767e2cee",
     "locked": true,
     "schema_version": 3,
     "solution": false,
     "task": false
    }
   },
   "source": [
    "kjer je `iImage` vhodna slika dimenzij $X \\times Y$, `iStep` časovni korak postopka (parameter $dt$, [slika](#slika2)), `iMaxIter` maksimalno število iteracij postopka, `iKappa` pa parameter $\\kappa = [0, \\infty]$ utežne funkcije $w(\\cdot)$ v enačbi:\n",
    "\n",
    "\\begin{equation}\n",
    "\tw(\\|\\nabla f\\|) = \\exp(-\\|\\nabla f\\|^2 / \\kappa^2)\\,.\n",
    "\t\\label{eq_weights}\n",
    "\\end{equation}\n",
    "\n",
    "Večje vrednosti $\\kappa$ zmanjšujejo anizotropičnost filtra (za $\\kappa=\\infty$ dobimo izotropen filter), časovni korak pa mora biti majhen, da velja diskretna aproksimacija. Majhen korak zahteva več iteracij za konvergenco, zato moramo velikost koraka in število iteracij ustrezno nastaviti. Funkcija vrne obdelano sliko `oImage`, ki ima dimenzije enake kot vhodna slika. \n",
    "\n",
    "Preizkusite delovanje funkcije na 2D mikro CT sliki `data/zob-microct.png` s parametri `iStep=1/16.0`, `iMaxIter=30` in `iKappa=16.0` in obnovljeno sliko primerjajte z originalno, degradirano sliko. Primerjajte rezultate s tistimi, ki jih dobite z uporabo funkcije `GradientAnisotropicDiffusion()` v knjižnici SimpleITK."
   ]
  }
 ],
 "metadata": {
  "celltoolbar": "Create Assignment",
  "kernelspec": {
   "display_name": "Python 3",
   "language": "python",
   "name": "python3"
  },
  "language_info": {
   "codemirror_mode": {
    "name": "ipython",
    "version": 3
   },
   "file_extension": ".py",
   "mimetype": "text/x-python",
   "name": "python",
   "nbconvert_exporter": "python",
   "pygments_lexer": "ipython3",
   "version": "3.6.9"
  }
 },
 "nbformat": 4,
 "nbformat_minor": 2
}
