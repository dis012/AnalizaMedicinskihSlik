{
 "cells": [
  {
   "cell_type": "markdown",
   "metadata": {
    "nbgrader": {
     "grade": false,
     "grade_id": "cell-82c4d9ac6cc1a273",
     "locked": true,
     "schema_version": 3,
     "solution": false,
     "task": false
    }
   },
   "source": [
    "## Peta domača naloga\n",
    "Opravljanje domačih nalog je **obvezno**. Uspešno rešene domače naloge so **pogoj za pristop k izpitu**. Rok za oddajo je **torek 22. november ob 23:59**.\n",
    "\n",
    "## Gradivo\n",
    "Za domačo nalogo zopet potrebujete datoteki `ct.nrrd` in `xray.nrrd`, ki podajata 3D CT sliko ledvenega vretenca L3 in 2D rentgensko sliko ledvenih vretenc L1-L5. 3D CT slika ima dimenzije $97 \\times 95 \\times 39$ in je zapisana z nepredznačenimi 8-bitnimi celimi števili, 2D rentgenska slika pa ima dimenzije $446 \\times 446$ in je zapisana z nepredznačenimi 16-bitnimi celimi števili. Geometrijski preslikavi CT in rentgenske slike iz prvega slikovnega elementa z indeksom `[0, 0, 0]` oz. `[0, 0]` v referenčni koordinatni sistem sta dani s homogenima matrikama $T_{ct}$ oz. $T_{xray}$ v Python spremenljivkah `ctTPos` in `xrayTPos`, položaj izvora rentgenskih žarkov v referenčnem koordinatnem sistemu pa v spremenljivki `xraySPos`."
   ]
  },
  {
   "cell_type": "code",
   "execution_count": null,
   "metadata": {
    "nbgrader": {
     "grade": false,
     "grade_id": "cell-7e4a56f125f46cfa",
     "locked": true,
     "schema_version": 3,
     "solution": false,
     "task": false
    }
   },
   "outputs": [],
   "source": [
    "import numpy as np\n",
    "import SimpleITK as sitk\n",
    "import amslib\n",
    "\n",
    "ctTPos = [\n",
    "    [1, 0, 0, 19.961],\n",
    "    [0, 1, 0, 23.7891],\n",
    "    [0, 0, 1, 164],\n",
    "    [0, 0, 0, 1]\n",
    "]\n",
    "xrayTPos = [\n",
    "    [-0.2925, -0.0510, -0.9549, 397.8680],\n",
    "    [-0.9542, 0.0809, 0.2879, 192.7720],\n",
    "    [0.0625, 0.9954, -0.0723, -107.8180],\n",
    "    [0, 0, 0, 1]\n",
    "]\n",
    "xraySPos = [-648.471, 285.483, 117.612]\n",
    "ct_img = sitk.GetArrayFromImage(sitk.ReadImage('data/ct.nrrd'))\n",
    "xray_img = sitk.GetArrayFromImage(sitk.ReadImage('data/xray.nrrd'))\n",
    "Xray = {\n",
    "    'img':xray_img, \n",
    "    'TPos':np.array(xrayTPos), \n",
    "    'SPos':np.array(xraySPos)\n",
    "}\n",
    "ct = {\n",
    "    'img':ct_img, \n",
    "    'TPos':np.array(ctTPos)\n",
    "} "
   ]
  },
  {
   "cell_type": "markdown",
   "metadata": {
    "nbgrader": {
     "grade": false,
     "grade_id": "cell-9c1a18ccdba0498d",
     "locked": true,
     "schema_version": 3,
     "solution": false,
     "task": false
    }
   },
   "source": [
    "1. Točnost poravnave slik lahko preverimo kvalitativno in kvantitativno. Primer kvalitativnega vrednotenja s superpozicijo DRR in rentgenske slik po vzorcu šahovnice je prikazan na [spodnji sliki](#slika1). Kvantitativno vrednotenje vključuje izračun ustrezne metrike razdalje kot napake med pravo in ocenjeno lokacijo tarčnih točk. \n",
    "    * S pomočjo avtomatskega postopka za poravnavo 3D in 2D funkcije `criterionFcn` v 7. nalogi z vaj izračunajte optimalne vrednosti parametrov $\\mathbf{p}^* = [t_x, t_y, t_z, \\alpha, \\beta, \\gamma]$ toge preslikave, kjer kot  začetne parametre uporabite vrednosti $p_1 = [-1, 0, 5, -5, 5, 0]$. Določite optimalne vrednosti za kombinacije, kjer za kriterijsko funkcijo uporabite ali **korelacijski koeficient** ali **medsebojno informacijo**, za postopek optimizacije pa **simpleksno optimizacijo** ali **Powellovo optimizacijo**. Zaradi preglednosti **NE izpisujte** rezultatov na posameznem koraku optimizacijskega postopka.\n",
    "   \n",
    "    * Za parametere poravnave, ki jih dobite s pomočjo optimizacije v gornjih štirih primerih izračunajte vrednost srednje napake med tarčnimi točkami (mTRE; ang. *mean target registration error*) po formuli \n",
    "    $$\n",
    "    mTRE = \\frac{1}{N}\\sum_{i=1}^N d\\big(t^R_i, T(q_{opt})t_i\\big), \n",
    "    $$\n",
    "    kjer $t_i^R$ označuje $i$-to točko v optimalni legi (glede na referenčno poravnavo), $T(q_{opt})t_i$ označuje $i$-to točko glede na poravnavo pridobljeno z optimizacijskim postopkom, $N$ število tarčnih točk, $d()$ pa evklidsko razdaljo.  \n",
    "    Kot tarčne točke uporabite kar oglišča 3D slike. Parametri referenčne toge preslikave, ki predstavljajo optimalno poravnavo so pri vrednostih $\\mathbf{p}^* = [0,0,0,0,0,0]$. Vrednosti *mTRE* zapišite v spodnjo tabelo.\n",
    "    \n",
    "    * Kakšen je vpliv parametrov toge preslikave na vrednost napake mTRE? Analizirajte in komentirajte. Kaj predstavlja vrednost mTRE in v katerih enotah se izraža? "
   ]
  },
  {
   "cell_type": "markdown",
   "metadata": {
    "nbgrader": {
     "grade": false,
     "grade_id": "cell-7a88c0bded2eef22",
     "locked": true,
     "schema_version": 3,
     "solution": false,
     "task": false
    }
   },
   "source": [
    "<a id='slika1'></a>\n",
    "<img src=\"images/RV_8_SLO_Primer3D2DPoravnave.png\" alt=\"Primer kvalitativnega vrednotenja\" style=\"float;left;width: 800px;\"/>"
   ]
  },
  {
   "cell_type": "code",
   "execution_count": null,
   "metadata": {
    "nbgrader": {
     "grade": true,
     "grade_id": "cell-77606a89d713aa71",
     "locked": false,
     "points": 10,
     "schema_version": 3,
     "solution": true,
     "task": false
    }
   },
   "outputs": [],
   "source": [
    "### BEGIN SOLUTION\n",
    "\n",
    "\n",
    "### END SOLUTION"
   ]
  },
  {
   "cell_type": "markdown",
   "metadata": {
    "nbgrader": {
     "grade": true,
     "grade_id": "cell-0cc5f345066c5071",
     "locked": false,
     "points": 10,
     "schema_version": 3,
     "solution": true,
     "task": false
    }
   },
   "source": [
    "**Tabela 1:** Vrednosti mTRE\n",
    "p_src = [-1, 0, 5, -5, 5, 0]\n",
    "\n",
    "|           |  CC  |  MI  | \n",
    "|-----------|------|------|\n",
    "|Nelder-Mead|      |    |\n",
    "|Powell     |      |     |\n",
    "\n",
    "\n",
    "Kakšen je vpliv parametrov referenčne vrednosti toge preslikave na vrednost napake mTRE? Kaj predstavlja vrednost mTRE in v katerih enotah se izraža? \n",
    "\n",
    "[ODGOVOR]"
   ]
  },
  {
   "cell_type": "markdown",
   "metadata": {
    "nbgrader": {
     "grade": false,
     "grade_id": "cell-c38bebb9864607a9",
     "locked": true,
     "schema_version": 3,
     "solution": false,
     "task": false
    }
   },
   "source": [
    "2. Načrtovana vstopna točka in smer pedikularnega vijaka glede na koordinatni sistem 3D CT slike je podana v spremenljivkah $\\mathbf{t}_e$ in $\\mathbf{v}_e$:\n",
    "\\begin{equation*}\n",
    "\\mathbf{t}_e = \\left[\\begin{array}{c} \n",
    "44\\\\ 25\\\\ 13\\\\\n",
    "\\end{array}\\right]\n",
    "\\quad\\mathrm{in}\\quad\n",
    "\\mathbf{v}_e = \\left[\\begin{array}{c} \n",
    "0.8638\\\\ 0.5039\\\\ 0\n",
    "\\end{array}\\right]\\,.\n",
    "\\end{equation*}\n",
    "    * Prenesite trajektorijo pedikularnega vijaka iz prostora 3D CT slike v prostor X-ray slike s pomočjo izhodiščne dane 3D-2D poravnave teh slik. Uporabite vrednosti referenčnih parametrov $\\mathbf{p}^*$ toge preslikave  in preslikajte načrtovano trajektorijo pedikularnega vijaka v 2D rentgensko sliko. Prikažite 2D rentgensko sliko in vrišite superponirano trajektorijo pedikularnega vijaka, preslikano in 3D CT slike, pri čemer trajektorijo vijaka prikažite kot daljico obarvano zeleno.\n",
    "    * Vrišite še trajektorijo pedikularnega vijaka še za primer 3D-2D poravnave, ko ste parameter preslikave pridobili z optimizacijo, ki ima najmanjšo *mPD* napako. Trajektorijo vrišite npr. z rdečo barvo in primerjate rezultat z referenčno razgradnjo. Je rešitev dovolj natančna?"
   ]
  },
  {
   "cell_type": "code",
   "execution_count": null,
   "metadata": {
    "nbgrader": {
     "grade": true,
     "grade_id": "cell-2f08c812b6527cc3",
     "locked": false,
     "points": 20,
     "schema_version": 3,
     "solution": true,
     "task": false
    }
   },
   "outputs": [],
   "source": [
    "### BEGIN SOLUTION\n",
    "\n",
    "\n",
    "### END SOLUTION"
   ]
  }
 ],
 "metadata": {
  "celltoolbar": "Create Assignment",
  "kernelspec": {
   "display_name": "Python 3",
   "language": "python",
   "name": "python3"
  },
  "language_info": {
   "codemirror_mode": {
    "name": "ipython",
    "version": 3
   },
   "file_extension": ".py",
   "mimetype": "text/x-python",
   "name": "python",
   "nbconvert_exporter": "python",
   "pygments_lexer": "ipython3",
   "version": "3.6.9"
  }
 },
 "nbformat": 4,
 "nbformat_minor": 2
}
