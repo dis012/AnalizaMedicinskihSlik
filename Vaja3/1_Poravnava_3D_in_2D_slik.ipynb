{
 "cells": [
  {
   "cell_type": "markdown",
   "metadata": {
    "nbgrader": {
     "grade": false,
     "grade_id": "cell-1dc7c6414fb0f260",
     "locked": true,
     "schema_version": 3,
     "solution": false,
     "task": false
    }
   },
   "source": [
    "# Poravnava 3D in 2D slik\n",
    "\n",
    "## Klinični kontekst\n",
    "\n",
    "Poravnava *preoperativno* zajetih 3D medicinskih slik na *medoperativno* zajete 2D slike omogoča medoperativno določanje položaja anatomije v 3D prostoru pacienta in prenos ter fuzijo operativnih načrtov. Ta tehnologija je zelo uporabna pri posegu za stabilizacijo hrbtenice, pri kateri kirurg v posamezno vretence vstavi pedikularni vijak in nato vijake poveže s kovinsko palico tako da izravna oz. stabilizira hrbtenico ([slika 1ab](#slika1)). Pred posegom kirurg na osnovi 3D slike računalniške tomografije (CT; ang. *Computed Tomography*) preuči stanje hrbtenice in določi trajektorijo vstavljanja pedikularnih vijakov ([slika1c](#slika1)), s pomočjo medoperativne žive rentgenske slike pa ta načrt prenese v prostor bolnika. \n",
    "\n",
    "Pri vaji boste načrtali in ovrednotili postopek za poravnavo 3D CT in 2D rentgenskih slik vretenc in preko poravnave slik prenesli predoperativni načrt vstavljanja pedikularnega vijaka iz 3D CT slike na 2D rentgensko sliko."
   ]
  },
  {
   "cell_type": "markdown",
   "metadata": {
    "nbgrader": {
     "grade": false,
     "grade_id": "cell-07c9473e6ec5a725",
     "locked": true,
     "schema_version": 3,
     "solution": false,
     "task": false
    }
   },
   "source": [
    "<a id='slika1'></a>\n",
    "### Slika 1: vstavljanje pedikularnega vijaka za stabilizacijo skoliotične hrbtenice\n",
    "\n",
    "<table style=\"width:100%\" bgcolor=\"#FFFFFF\" align=\"center\">\n",
    "  <tr>\n",
    "    <th>    \n",
    "    <img src=\"images/ams_vaja1_skolioza.jpg\" alt=\"Primer skoliotične hrbtenice\" style=\"float;left;width: 300px;\"/>\n",
    "    </th>\n",
    "    <th>\n",
    "    <img src=\"images/ams_vaja1_stabilizacija.jpg\" alt=\"Stabilizacija hrbtenice\" style=\"float;left;width: 200px;\"/>\n",
    "    </th>\n",
    "    <th>\n",
    "    <img src=\"images/ams_vaja1_vijak1.jpg\" alt=\"Načrt vstavljanja vijaka\" style=\"float;left;width: 300px;\"/>\n",
    "    </th> \n",
    "  </tr>\n",
    "  <tr>\n",
    "      <td style=\"text-align:center\">(a)</td>\n",
    "      <td style=\"text-align:center\">(b)</td>\n",
    "      <td style=\"text-align:center\">(c)</td>\n",
    "  </tr>\n",
    "</table>\n",
    "\n",
    "(a) Pacient z degenerativno skoliozo in (b) stabilizacija hrbtenice s pedikularnimi vijaki. (c) 3D model vretenca izluščen iz predoperativne CT slike in načrtovana trajektorija vstavljanja pedikularnega vijaka."
   ]
  },
  {
   "cell_type": "markdown",
   "metadata": {
    "nbgrader": {
     "grade": false,
     "grade_id": "cell-56db7a233c44b633",
     "locked": true,
     "schema_version": 3,
     "solution": false,
     "task": false
    }
   },
   "source": [
    "## Navodila\n",
    "Postopek prileganja 3D modela na 2D sliko imenujemo **3D-2D poravnava**. 3D-2D poravnava je proces iskanja optimalne geometrijske preslikave $\\mathcal{T}: \\mathbb{R}^3 \\rightarrow \\mathbb{R}^3$, ki 3D model oz. sliko $V$ nekega objekta preslika v tako lego, ki je *skladna* s projekcijo istega objekta na zajeti 2D sliki $P$. Glavni izziv pri poravnavi 3D in 2D slik je prostorska neskladnost slikovne informacije (3D vs. 2D), ki jo lahko odpravimo na dva načina: \n",
    "1. **s projekcijo 3D informacije v 2D slikovni prostor** ali \n",
    "2. z rekonstrukcijo 3D slike iz različnih 2D projekcij.\n",
    "\n",
    "Pri vaji boste načrtali postopek poravnave s **projekcijo 3D slike v 2D** ($\\mathcal{P}: \\mathbb{R}^3 \\rightarrow \\mathbb{R}^2$) in maksimizacijo mere podobnosti $MP$ med projekcijo $\\mathcal{P}(V)$ in 2D sliko $P$. \n",
    "\n",
    "Način projekcije zavisi od oblike 3D informacije. Pri vaji bo dana 3D CT slika, v kateri vsak slikovni element predstavlja atenuacijski koeficient $\\mu(\\mathbf{x})$ zajete 3D scene. Za potrebe poravnave 3D in 2D slik boste s pomočjo 3D CT slike simulirali 2D rentgenske slike, pri katerih se projekcija iz 3D prostora v 2D sliko izraža kot integral atenuacijskega koeficienta vzdolž premice od izvora rentgenskih žarkov $S$ do 2D slikovne ravnine $P = \\int_l \\mu(l) dl$. Tovrstno projekcijo 3D CT slike imenujemo digitalno rekonstruirani rentgenski posnetek (DRR; ang. *Digitally Reconstructed Radiograph*). Primer pojekcije in pripadajoče količine so prikazane na [sliki 2](#slika2)."
   ]
  },
  {
   "cell_type": "markdown",
   "metadata": {
    "nbgrader": {
     "grade": false,
     "grade_id": "cell-477191250ef69960",
     "locked": true,
     "schema_version": 3,
     "solution": false,
     "task": false
    }
   },
   "source": [
    "<a id='slika2'></a>\n",
    "### Slika 2: Ustvarjanje projekcije 3D slike in diagram poteka 3D-2D poravnave\n",
    "\n",
    "<img src=\"images/RV_8_SLO_3D2DPoravnava.png\" alt=\"Potek 3D-2D poravnave slik\" style=\"float;left;width: 800px;\"/>"
   ]
  },
  {
   "cell_type": "markdown",
   "metadata": {
    "nbgrader": {
     "grade": false,
     "grade_id": "cell-10fb1b573644e840",
     "locked": true,
     "schema_version": 3,
     "solution": false,
     "task": false
    }
   },
   "source": [
    "Prostorsko ujemanje med projekcijo $\\mathcal{P}(V)$ in 2D sliko $P$ ovrednotimo z mero podobnosti $MP$; to je skalarna funkcija, ki zavzame maksimum, ko se položaji korespondenčnih struktur v $\\mathcal{P}(V)$ in $P$ medsebojno prekrivajo. Mero podobnosti je potrebno smiselno izbrati, tako da je čim manj občutljiva na motilna slikovna neskladja in čim bolj občutljiva na dejanska geometrijska neskladja med slikama. \n",
    "\n",
    "Za poravnavo monomodalnih slik, pri katerih običajno velja predpostavka o linearni zvezi med intenzitetami slik v poravnavi, se pogosto uporablja **korelacijski koeficient** $CC$ (CC &ndash; ang. Correlaction Coefficient), ki je definiran kot:\n",
    "\n",
    "$$\n",
    "    CC(I, J) = \\frac{\\sum_{i=1}^{N}\\sum_{j=1}^{M} (I(x_i, y_j) - \\overline{I}) \\cdot (J(x_i, y_j) - \\overline{J})}{\\sqrt{\\sum_{i=1}^{N}\\sum_{j=1}^{M} (I(x_i, y_j) - \\overline{I})^2 \\sum_{i=1}^{N}\\sum_{j=1}^{M} (J(x_i, y_j) - \\overline{J})^2}}\\, \\hspace{5mm} \\in {[-1, 1]},\n",
    "$$\n",
    "\n",
    "kjer $N$ in $M$ predstavljata število elementov vzdolž $x$ in $y$ osi slike. \n",
    "\n",
    "Za poravnavo večmodalnih slik, tj. slik ki so zajete z različnimi napravami in v katerih so zveze med intenzitetami slik v poravnavi lahko le statistične, se pogosto uporabljata **medsebojna informacija** $MI$ (MI &ndash; ang. Mutual Information):\n",
    "\n",
    "$$\n",
    "    MI(I,J) = H(I) + H(J) - H(I,J) \\,,\n",
    "$$\n",
    "\n",
    "kjer sta $H(I)$ in $H(J)$ entropija referenčne $I(x,y)$ in lebdeče $J(x,y)$ slike, $H(I,J)$ pa njuna skupna entropija: \n",
    "\n",
    "$$\n",
    "  \\begin{split}\n",
    "    H(I) &= - \\sum_{s_I=0}^{L-1} p_I(s_I) \\log p_I(s_I)\\,,\\\\\n",
    "    H(J) &= - \\sum_{s_J=0}^{L-1} p_J(s_J) \\log p_J(s_J)\\,,\\\\\n",
    "    H(I,J) &= - \\sum_{s_I=0}^{L-1}\\sum_{s_J=0}^{L-1} p_{IJ}(s_I,s_J) \\log p_{IJ}(s_I,s_J)\\,,\\\\\n",
    "  \\end{split}\n",
    "$$\n",
    "\n",
    "kjer spremenljivki $s_I$ in $s_J$ označujeta soležne, diskretne sivinske vrednosti referenčne slike $I(x,y)$ in lebdeče slike $J(x,y)$, $L$ pa število diskretnih vrednosti. Verjetnostni porazdelitvi $p_I(s_I)$ in $p_J(s_J)$ ter skupno porazdelitev $p_{IJ}(s_I,s_J)$ dobimo iz pripadajočih normaliziranih histogramov $h_I(s_I)$, $h_J(s_J)$ ter $h_{IJ}(s_I,s_J)$:\n",
    "\n",
    "$$\n",
    "  p_I(s_I) = \\frac{h_I(s_I)}{N\\cdot M}\\,,\\quad\n",
    "  p_J(s_J) = \\frac{h_J(s_J)}{N\\cdot M}\\,,\\quad\n",
    "  p_{IJ}(s_I,s_J) = \\frac{h_{IJ}(s_I,s_J)}{N\\cdot M}\\,,\n",
    "$$\n",
    "\n",
    "kjer $N$ in $M$ predstavljata število elementov vzdolž $x$ in $y$ osi slike."
   ]
  },
  {
   "cell_type": "markdown",
   "metadata": {
    "nbgrader": {
     "grade": false,
     "grade_id": "cell-3828b8ba11e5892e",
     "locked": true,
     "schema_version": 3,
     "solution": false,
     "task": false
    }
   },
   "source": [
    "Tekom poravnave 3D in 2D slike nam izbrana optimizacijska metoda iterativno spreminja parametre $\\mathbf{p}$ geometrijske preslikave $\\mathcal{T} = \\mathcal{T}(\\mathbf{p})$ tako, da maksimizira mero podobnosti: \n",
    "\n",
    "$$\n",
    "  \\mathbf{p}^* = \\mathrm{argmax}_\\mathbf{p} \\, MP\\Bigl( \\mathcal{P}\\bigl( V[ \\mathcal{T}(\\mathbf{p}) ]\\bigr), P \\Bigr) \\,,\n",
    "$$\n",
    "\n",
    "kjer so $\\mathbf{p}^*$ optimalni parametri preslikave $\\mathcal{T}(\\mathbf{p})$. Za poravnavo 3D in 2D slik vretenc boste uporabili togo preslikavo, ki je v 3D definirana s šestimi parametri $\\mathbf{p}=[t_x, t_y, t_z, \\alpha, \\beta, \\gamma]^{\\mathrm{T}}$. Postopek poravnave 3D in 2D slik je prikazan na [sliki 2](#slika2)."
   ]
  },
  {
   "cell_type": "markdown",
   "metadata": {
    "nbgrader": {
     "grade": false,
     "grade_id": "cell-271a4b4ad025dd12",
     "locked": true,
     "schema_version": 3,
     "solution": false,
     "task": false
    }
   },
   "source": [
    "### Gradivo \n",
    "Za vajo potrebujete datoteki `ct.nrrd` in `xray.nrrd`, ki podajata 3D CT sliko ledvenega vretenca L3 in 2D rentgensko sliko ledvenih vretenc L1-L5. 3D CT slika ima dimenzije $97 \\times 95 \\times 39$ in je zapisana z nepredznačenimi 8-bitnimi celimi števili, 2D rentgenska slika pa ima dimenzije $446 \\times 446$ in je zapisana z nepredznačenimi 16-bitnimi celimi števili. Geometrijski preslikavi CT in rentgenske slike iz prvega slikovnega elementa z indeksom `[0, 0, 0]` oz. `[0, 0]` v referenčni koordinatni sistem sta dani s homogenima matrikama $T_{ct}$ oz. $T_{xray}$ v naslednjih Python spremenljivkah:"
   ]
  },
  {
   "cell_type": "code",
   "execution_count": 9,
   "metadata": {},
   "outputs": [],
   "source": [
    "# Pozicija xray in ct v prostoru. Ponavadi že podano nerabiš računat\n",
    "# Matriki za poravnavo iz globalnega v lokalni koordinatni sistem\n",
    "# Gre za afino preslikavo\n",
    "ctTPos = [\n",
    "    [1, 0, 0, 19.961],\n",
    "    [0, 1, 0, 23.7891],\n",
    "    [0, 0, 1, 164],\n",
    "    [0, 0, 0, 1]\n",
    "]\n",
    "\n",
    "xrayTPos = [\n",
    "    [-0.2925, -0.0510, -0.9549, 397.8680],\n",
    "    [-0.9542, 0.0809, 0.2879, 192.7720],\n",
    "    [0.0625, 0.9954, -0.0723, -107.8180],\n",
    "    [0, 0, 0, 1]\n",
    "]"
   ]
  },
  {
   "cell_type": "markdown",
   "metadata": {
    "nbgrader": {
     "grade": false,
     "grade_id": "cell-48e9f304295d3940",
     "locked": true,
     "schema_version": 3,
     "solution": false,
     "task": false
    }
   },
   "source": [
    "Položaj izvora rentgenskih žarkov v referenčnem koordinatnem sistemu je v točki:"
   ]
  },
  {
   "cell_type": "code",
   "execution_count": 10,
   "metadata": {},
   "outputs": [],
   "source": [
    "xraySPos = [-648.471, 285.483, 117.612]"
   ]
  },
  {
   "cell_type": "markdown",
   "metadata": {
    "nbgrader": {
     "grade": false,
     "grade_id": "cell-2d9b702c58f44b75",
     "locked": true,
     "schema_version": 3,
     "solution": false,
     "task": false
    }
   },
   "source": [
    "Korak vzorčenja 3D in 2D slik je 1 milimeter, kar lahko ugotovite tudi z branjem metapodatkov (funkcija `GetSpacing()`) v vhodnih `.nrrd` slikah. Geometrijske razmere in količine so ponazorjene v [sliki 2](#slika2). \n",
    "\n",
    "## Naloge\n",
    "Predno pričnete z reševanjem nalog izvedite spodnji blok kode, ki naloži potrebne Python knjižnice in definira nekaj pomožnih funkcij."
   ]
  },
  {
   "cell_type": "code",
   "execution_count": 11,
   "metadata": {},
   "outputs": [],
   "source": [
    "\n",
    "import matplotlib.pyplot as plt\n",
    "import numpy as np\n",
    "import time\n",
    "import amslib\n",
    "import SimpleITK as sitk\n",
    "\n",
    "from scipy.optimize import fmin, minimize\n",
    "from scipy.interpolate import interpn\n",
    "import scipy.ndimage as ni\n",
    "from mpl_toolkits.mplot3d import Axes3D\n",
    "\n",
    "def preprocess_ct(ct):\n",
    "    ct_temp = dict(ct)\n",
    "    ct_temp['img'] = (ct_temp['img'] - np.median(ct_temp['img'])).\\\n",
    "           astype('float')\n",
    "    return ct_temp        \n",
    "\n",
    "def preprocess_Xray(Xray):\n",
    "    Xray_temp = dict(Xray)\n",
    "    Xray_temp['img'] = amslib.windowImage(Xray_temp['img'], 60.0, 120.0)\n",
    "    Xray_temp['img'] = Xray_temp['img'].astype('float') / \\\n",
    "             Xray_temp['img'].max() * 255.0\n",
    "    return Xray_temp\n",
    "\n",
    "# Dodaš homogenor matriko, zato da lahko množiš z 4x4 matriko\n",
    "def addHomogCoord(iPts):\n",
    "    '''\n",
    "    Seznamu 2D koordinat dodaj homogeno koordinato\n",
    "\n",
    "    Parameters\n",
    "    ----------\n",
    "    iPts : numpy.ndarray\n",
    "        Polje Nx3 koordinat x, y, z\n",
    "        \n",
    "    Returns\n",
    "    --------\n",
    "    oPts : numpy.ndarray\n",
    "        Polje Nx4 homogenih koordinat x, y, z\n",
    "\n",
    "    '''\n",
    "    iPts = np.asarray(iPts)\n",
    "    iPts = np.hstack((iPts, np.ones((iPts.shape[0],1))))\n",
    "    return iPts"
   ]
  },
  {
   "cell_type": "markdown",
   "metadata": {
    "nbgrader": {
     "grade": false,
     "grade_id": "cell-8832749c991206ae",
     "locked": true,
     "schema_version": 3,
     "solution": false,
     "task": false
    }
   },
   "source": [
    "1. Naložite 3D CT in 2D Xray sliki. Za vsako od slik ustvarite spremenljivko tipa `dict`, npr. `ct` in `Xray`, in pod ključem `'img'` vnesite sivinske vrednosti slike in pod ključem `'TPos'` pripadajočo preslikavo v referenčnem koordinatnem sistemu (`ctTPos` in `xrayTPos`), za 2D rentgensko sliko vnesite pod ključem `'SPos'` še položaj izvora rentgenskih žarkov (`xraySPos`)."
   ]
  },
  {
   "cell_type": "code",
   "execution_count": 12,
   "metadata": {
    "nbgrader": {
     "grade": false,
     "grade_id": "cell-bf3458970b1a872b",
     "locked": false,
     "schema_version": 3,
     "solution": true,
     "task": false
    }
   },
   "outputs": [],
   "source": [
    "# naloži slike s SimpleITK knjižnico\n",
    "### BEGIN SOLUTION\n",
    "ct_img = sitk.GetArrayFromImage(sitk.ReadImage('data/ct.nrrd'))\n",
    "xray_img = sitk.GetArrayFromImage(sitk.ReadImage('data/xray.nrrd'))\n",
    "### END SOLUTION\n",
    "# oblikuj v spremenljivki tipa dict (slovar) z ustreznimi ključi\n",
    "### BEGIN SOLUTION\n",
    "Xray = {\n",
    "    'img':xray_img,            # X-ray slika\n",
    "    'TPos':np.array(xrayTPos), # matiriko preslikave x-ray\n",
    "    'SPos':np.array(xraySPos)  # izvor rentgenskih žarkov\n",
    "}\n",
    "ct = {\n",
    "    'img':ct_img,            # CT slika\n",
    "    'TPos':np.array(ctTPos)  # pozicija CT slike\n",
    "}\n",
    "### END SOLUTION"
   ]
  },
  {
   "cell_type": "markdown",
   "metadata": {
    "nbgrader": {
     "grade": false,
     "grade_id": "cell-cf5808da3601521b",
     "locked": true,
     "schema_version": 3,
     "solution": false,
     "task": false
    }
   },
   "source": [
    "2. Ustvarite vzorčni mreži 2D rentgenske in 3D CT slike s pomočjo ukaza `numpy.meshgrid()`. Točke na vzorčnih mrežah preslikajte v referenčni koordinatni sistem s pripadajočimi 3D togimi preslikavami `Xray.TPos` in `ct.TPos`. Preslikane točke 3D in 2D vzorčnih mrež in položaj izvora rentgenskih žarkov `Xray.SPos` prikažite s pomočjo ukaza `Axes3D.scatter()`. Preverite pravilnost dobljene geometrijske postavitve izvora $S$, 3D in 2D slike v referenčnem koordinatnem sistemu s [slike 3](#slika3).\n",
    "\n",
    "<a id='slika3'></a>\n",
    "### Slika 3: Geometrijska postavitev izvora in vzorčnih točk 3D in 2D slike v referenčnem koordinatnem sistemu\n",
    "<img src=\"images/RV_8_SLO_3DGeometrija.png\" alt=\"Geometrijska postavitev\" style=\"float;left;width: 800px;\"/>"
   ]
  },
  {
   "cell_type": "code",
   "execution_count": 13,
   "metadata": {},
   "outputs": [],
   "source": [
    "# ustvari polje vzorčnih koordinat\n",
    "s3z, s3y, s3x = ct['img'].shape\n",
    "g3x, g3y, g3z = np.meshgrid(range(s3x), range(s3y), range(s3z), indexing='xy')\n",
    "# ustvari Nx4 matriko, zadnja koordinata homogena. Homogeno rabimo za afino\n",
    "# Dodaj homogeno koordinato\n",
    "g3 = np.vstack((g3x.flatten(), g3y.flatten(), g3z.flatten())).transpose()\n",
    "g3 = np.hstack((g3, np.ones((g3.shape[0], 1))))\n",
    "# ustvari polje vzorčnih koordinat\n",
    "s2y, s2x = Xray['img'].shape\n",
    "g2x, g2y = np.meshgrid(range(s2x), range(s2y), indexing='xy')\n",
    "# ustvari Mx4 matriko, zadnja koordinata homogena\n",
    "g2 = np.vstack((g2x.flatten(), g2y.flatten())).transpose()\n",
    "g2 = np.hstack((g2, np.zeros((g2.shape[0], 1)), np.ones((g2.shape[0], 1))))\n",
    "\n",
    "\"\"\"\n",
    "x  y  z  1\n",
    "0  0  0  1\n",
    "1  0  0  1\n",
    "2  0  0  1\n",
    "0  1  0  1\n",
    "1  1  0  1\n",
    "2  1  0  1\n",
    "\"\"\"\n",
    "# preslikaj v svetovni koordinatni sistem\n",
    "# Uporabiš transpose, da matriko ustrezno pomnožiš in preneseš v svetovni koordinatni sistem\n",
    "g3p = np.dot(g3, ct['TPos'].transpose()) # g3 je velikosti Nx4, ct['TPos'] je velikosti 4x4. Če bi bila velikosti 4xN, bi množili iz leve\n",
    "g2p = np.dot(g2, Xray['TPos'].transpose())\n",
    "xsp = Xray['SPos'].flatten()\n",
    "# izriši decimirane točke v svetovnem koordinatnem sistemu\n",
    "s2, s3 = 50, 30\n",
    "\n",
    "# Uporabi samo če inštaliraš pyqt6 ali 5 z pip install PyQt5 ali pip install PyQt6\n",
    "%matplotlib qt\n",
    "\n",
    "fig = plt.figure()\n",
    "ax = fig.add_subplot(111, projection='3d')\n",
    "ax.scatter(xsp[0], xsp[1], xsp[2], c='m', marker='o')\n",
    "ax.scatter(g2p[::s2,0], g2p[::s2,1], g2p[::s2,2], c='b', marker='.', linewidths=0)\n",
    "ax.scatter(g3p[::s3,0], g3p[::s3,1], g3p[::s3,2], c='g', marker='.', linewidths=0)\n",
    "plt.show()"
   ]
  },
  {
   "cell_type": "markdown",
   "metadata": {
    "nbgrader": {
     "grade": false,
     "grade_id": "cell-3fe611dc5c859f00",
     "locked": true,
     "schema_version": 3,
     "solution": false,
     "task": false
    }
   },
   "source": [
    "3. Napišite funkcijo, ki preslika poljubno točko `iPos` v 3D prostoru na 2D slikovno ravnino glede na izvor rentgenskih žarkov $S$ (`xraySPos`):\n",
    "```python\n",
    "    def mapPointToPlane( iPos, Xray ):\n",
    "        return oPos\n",
    "```\n",
    "kjer je `iPos` matrika $N \\times 3$, `Xray` pa spremenljivka s podatki o 2D rentgenski sliki. Funkcija vrne točke v matriki `oPos` v obliki matrike $N \\times 3$. V ravnino preslikane točke izračunate kot presečišča 2D slikovne ravnine s premicami, ki izvirajo v izvoru rentgenskih žarkov in gredo skozi točke `iPos`. Preverite delovanje funkcije tako, da preslikate koordinate oglišč 3D slike na 2D slikovno ravnino in točke vrišete v geometrijsko postavitev iz prejšnje naloge."
   ]
  },
  {
   "cell_type": "code",
   "execution_count": null,
   "metadata": {
    "nbgrader": {
     "grade": false,
     "grade_id": "cell-708a03eebdf9e30c",
     "locked": false,
     "schema_version": 3,
     "solution": true,
     "task": false
    }
   },
   "outputs": [],
   "source": [
    "# iščemo presečišče med premico in ravnino. \n",
    "def mapPointToPlane(iPos, Xray):\n",
    "    ### BEGIN SOLUTION\n",
    "    # tocke so v obliki Nx3/4\n",
    "    iPos = np.asarray(iPos)\n",
    "    if iPos.ndim == 1:   # za eno samo točko da je res array ( če je sam ena točka, potem želimo zapisat to kot vrstico)\n",
    "        iPos = np.reshape(iPos, (1, iPos.size))    \n",
    "    iPos = iPos[:,:3]    # če imamo slučajno homogeno komponento že\n",
    "    # doloci izhodisce na detektorju\n",
    "    p0 = np.dot(Xray['TPos'], np.array([0, 0, 0, 1])) # tako ga prestavimo v globalni prostor (v 2D slikovni ravnini gre za točko 0,0,0,1)\n",
    "    # doloci normalo na ravnino (rabiš normalo da dobis enačbo ravnine)\n",
    "    ex = np.dot(Xray['TPos'], np.array([1, 0, 0, 1])) # enotna točka na ravnini x-raya, ki ga preslikamo v globalni prostor\n",
    "    ey = np.dot(Xray['TPos'], np.array([0, 1, 0, 1])) # enotna točka na ravnini x-raya, ki ga preslikamo v globalni prostor\n",
    "    n = np.cross(ex[:-1] - p0[:-1], ey[:-1] - p0[:-1])    # normala je vektorski produkt med vektorjema ex in ey\n",
    "    n = n / np.sqrt(np.sum(n**2.0))  # naredimo da je enotska\n",
    "    # skrajsaj vse vektorje na dimenzije 1x3\n",
    "    p0, n = p0[:3], n[:3]\n",
    "    SPos = Xray['SPos'].reshape((1,3))    \n",
    "    # koeficient za skaliranje smernega vektorja\n",
    "    # premica: T + C*s Točka na premici + konstanta * smerni vektor\n",
    "    #od izvora mimo iPos na detektor\n",
    "    alpha = np.dot(p0 - SPos, n) / np.dot(iPos - SPos, n)\n",
    "    # glej papirus\n",
    "\n",
    "    # doloci polozaj tock na detektorju\n",
    "    # oPos = SPos + alpha * (iPos - SPos) --> glej gor enačbo\n",
    "    oPos = SPos + alpha.reshape((iPos.shape[0],1)) * (iPos - SPos)\n",
    "    ### END SOLUTION\n",
    "    return oPos"
   ]
  },
  {
   "cell_type": "markdown",
   "metadata": {
    "nbgrader": {
     "grade": false,
     "grade_id": "cell-4203188de5c1aee5",
     "locked": true,
     "schema_version": 3,
     "solution": false,
     "task": false
    }
   },
   "source": [
    "S spodnjo kodo **testirajte pravilnost delovanja** funkcije `mapPointToPlane()`:"
   ]
  },
  {
   "cell_type": "code",
   "execution_count": 15,
   "metadata": {},
   "outputs": [
    {
     "name": "stdout",
     "output_type": "stream",
     "text": [
      "[[292.68358101 -82.98292145 182.92646535]\n",
      " [289.0895627  -81.57584838 235.976861  ]\n",
      " [305.84100239 -41.21398511 175.52248146]\n",
      " [302.60845016 -40.10736058 222.60458618]\n",
      " [329.61021282  40.10538029 185.48910837]\n",
      " [325.72921738  41.07903096 240.60253299]\n",
      " [338.89238225  68.88451081 177.52813718]\n",
      " [335.43244783  69.64351867 226.22812826]]\n"
     ]
    },
    {
     "data": {
      "text/plain": [
       "<mpl_toolkits.mplot3d.art3d.Path3DCollection at 0x16de83760>"
      ]
     },
     "execution_count": 15,
     "metadata": {},
     "output_type": "execute_result"
    }
   ],
   "source": [
    "# ustvari mrezo tock oglisc 3D slike\n",
    "sz, sy, sx = ct['img'].shape\n",
    "g3x, g3y, g3z = np.meshgrid((0, sx-1), (0, sy-1), (0, sz-1), indexing='xy')\n",
    "g3 = np.vstack((g3x.flatten(), g3y.flatten(), g3z.flatten())).transpose()\n",
    "g3 = np.hstack((g3, np.ones((g3.shape[0], 1))))\n",
    "g3p = np.dot(g3, ct['TPos'].transpose())    \n",
    "# ustvari mrezo tock oglisc 2D slike\n",
    "s2y,s2x = Xray['img'].shape\n",
    "g2x,g2y = np.meshgrid((0, s2x-1),(0, s2y-1),indexing='xy')\n",
    "# ustvari Mx4 matriko, zadnja koordinata homogena\n",
    "g2 = np.vstack((g2x.flatten(), g2y.flatten())).transpose()\n",
    "g2 = np.hstack((g2, np.zeros((g2.shape[0], 1)), np.ones((g2.shape[0], 1))))\n",
    "g2p = np.dot(g2, Xray['TPos'].transpose())\n",
    "# koordinata izvora zarkov\n",
    "xsp = Xray['SPos'].flatten()    \n",
    "# tocke 3D oglisc na ravnini detektorja\n",
    "g2proj = mapPointToPlane(g3p[:, :3], Xray)\n",
    "print(g2proj)\n",
    "# narisi geometrijske razmere\n",
    "s = 1\n",
    "fig = plt.figure()    \n",
    "ax = fig.add_subplot(111,projection='3d')\n",
    "ax.scatter(xsp[0], xsp[1], xsp[2], c='m', marker='o')\n",
    "ax.scatter(g2p[::s, 0], g2p[::s, 1], g2p[::s, 2], c='b', marker='.', linewidths=0)\n",
    "ax.scatter(g3p[::s, 0], g3p[::s, 1], g3p[::s, 2], c='g', marker='.', linewidths=0)\n",
    "ax.scatter(g2proj[:, 0], g2proj[:, 1], g2proj[:, 2], c='r', marker='o')\n",
    "# od zgoraj:\n",
    "# ax.view_init(elev=80, azim=-125)\n",
    "# iz zornega kota vira\n",
    "# ax.view_init(elev=-9, azim=147)"
   ]
  },
  {
   "cell_type": "markdown",
   "metadata": {
    "nbgrader": {
     "grade": false,
     "grade_id": "cell-1acb53a1b44f2209",
     "locked": true,
     "schema_version": 3,
     "solution": false,
     "task": false
    }
   },
   "source": [
    "4. Napišite funkcijo za stožčasto projekcijo 3D CT slike v 2D slikovno ravnino, ki simulira delovanje rentgena (DRR):\n",
    "```python\n",
    "    def project3DTo2D( ct, Xray, iStep ):\n",
    "        return oDRR, oMask\n",
    "```\n",
    "kjer sta `ct` in `Xray` spremenljivki s podatki o 3D CT in 2D rentgenski sliki, `iStep` pa je korak vzorčenja v **milimetrih** vzdolž vsake premice od izvora rentgenskih žarkov do presečišča z 2D slikovno ravnino. Funkcija vrne 2D DRR sliko v spremenljivki `oDRR` in 2D masko DRR slike v spremenljivki `oMask`, ki imata dimenzije $446\\times446$ (enako kot `xrayImg`). 2D maska DRR slike označuje tiste točke 2D slikovne ravnine, za katere premica do izvora rentgenskih žarkov seče 3D CT sliko. Preizkusite delovanje funkcije s pomočjo danih `ct` in `Xray` slik in ustvarite DRR oz. projekcijo 3D CT slike. Preizkusite vpliv dolžine koraka `iStep` na projecirano sliko."
   ]
  },
  {
   "cell_type": "code",
   "execution_count": 16,
   "metadata": {},
   "outputs": [],
   "source": [
    "def project3DTo2D_slow(ct, Xray, iStep):\n",
    "    '''\n",
    "    Naloga 4: Funkcija za stozcasto projekcijo 3D slike v 2D ravnino\n",
    "\n",
    "    Parameters\n",
    "    ----------\n",
    "    ct : dict\n",
    "        Podatki o 3D ct sliki in sivinske vrednosti pod ključi TPos in img\n",
    "    Xray : dict\n",
    "        Podatki o 2D Xray sliki in sivinske vrednosti pod ključi TPos, SPos in img\n",
    "    iStep : float\n",
    "        Korak vzorčenja v mm vzdolž Xray žarkov od izvora do 2D detektorja\n",
    "    \n",
    "    Returns\n",
    "    ---------\n",
    "    oDRR : numpy.ndarray\n",
    "        Izhodna iz 3D v 2D prostor preslikana slika, ki simulira rentgen\n",
    "    oMask : numpy.ndarray\n",
    "        Maska področja kamor se preslika 3D slika (1-ospredje, 0-ozadje)\n",
    "    '''\n",
    "    # ustvari mrezo tock oglisc 3D slike\n",
    "    s3z, s3y, s3x = ct['img'].shape\n",
    "    g3x, g3y, g3z = np.meshgrid((0,s3x-1),(0,s3y-1),(0,s3z-1),indexing='xy')\n",
    "    g3 = np.vstack((g3x.flatten(),g3y.flatten(),g3z.flatten())).transpose()\n",
    "    g3 = np.hstack((g3, np.ones((g3.shape[0],1))))\n",
    "    g3p = np.dot(g3, ct['TPos'].transpose())    \n",
    "    \n",
    "    # tocke 3D oglisc na ravnini detektorja\n",
    "    g2proj = mapPointToPlane(g3p[:,:3], Xray)       \n",
    "    # preslikaj v 2D ravnino (ravnina detektorja)\n",
    "    g2plane = np.dot(addHomogCoord(g2proj), \\\n",
    "                np.linalg.inv(Xray['TPos']).transpose()) \n",
    "    \n",
    "    # poisci najmanjsi ocrtan pravokotnik\n",
    "    xmin = np.floor(np.min(g2plane[:,0]))\n",
    "    xmax = np.ceil(np.max(g2plane[:,0]))\n",
    "    ymin = np.floor(np.min(g2plane[:,1]))\n",
    "    ymax = np.ceil(np.max(g2plane[:,1]))\n",
    "    \n",
    "    # preveri ali so tocke znotraj 2D slike -- maska\n",
    "    s2y, s2x = Xray['img'].shape\n",
    "    xmin = np.max((0,xmin)); xmin = int(np.min((s2x,xmin)))\n",
    "    xmax = np.max((0,xmax)); xmax = int(np.min((s2x,xmax)))\n",
    "    ymin = np.max((0,ymin)); ymin = int(np.min((s2y,ymin)))\n",
    "    ymax = np.max((0,ymax)); ymax = int(np.min((s2y,ymax)))\n",
    "    \n",
    "    # definiraj mrezo tock v 2D ravnini\n",
    "    g2x, g2y = np.meshgrid(range(xmin,xmax), range(ymin,ymax), indexing='xy')\n",
    "    rectShape = g2x.shape\n",
    "    \n",
    "    # ustvari Mx4 matriko, zadnja koordinata homogena\n",
    "    g2 = np.vstack((g2x.flatten(),g2y.flatten())).transpose()\n",
    "    g2 = np.hstack((g2, np.zeros((g2.shape[0],1)), np.ones((g2.shape[0],1))))\n",
    "    g2 = np.dot(g2, Xray['TPos'].transpose())\n",
    "    \n",
    "    # preberi pozicijo izvora zarkov\n",
    "    xsp = Xray['SPos'].flatten().reshape((1,3))\n",
    "    \n",
    "    # doloci minimalno in maksimalno razdaljo za vzorcenje med izvorom in 3d sliko\n",
    "    d = np.sqrt(np.sum((g3p[:,:3]  - xsp)**2.0, axis=1))\n",
    "    dmin = np.min(d); dmax = np.max(d)\n",
    "  \n",
    "    # doloci vzorcne tocke vzdolz zarkov    \n",
    "    ds = np.arange(dmin,dmax,iStep)\n",
    "    ds = np.reshape(ds, (1,ds.size))    \n",
    "\n",
    "    # definiraj vzorcne tocke v 3d prostoru\n",
    "    vs = g2[:,:3] - xsp\n",
    "    vs = vs / np.sqrt(np.sum(vs**2.0, axis=1)).reshape((vs.shape[0],1))    # normalizacija \n",
    "    \n",
    "    Nx1 = (vs.shape[0],1)\n",
    "    px = xsp[0,0] + vs[:,0].reshape(Nx1) * ds\n",
    "    py = xsp[0,1] + vs[:,1].reshape(Nx1) * ds\n",
    "    pz = xsp[0,2] + vs[:,2].reshape(Nx1) * ds\n",
    "    \n",
    "    # preslikava koordinat v prostor 3D slike   \n",
    "    Tmat = np.linalg.inv(ct['TPos'])\n",
    "    pxn = Tmat[0,0]*px + Tmat[0,1]*py + Tmat[0,2]*pz + Tmat[0,3]\n",
    "    pyn = Tmat[1,0]*px + Tmat[1,1]*py + Tmat[1,2]*pz + Tmat[1,3]\n",
    "    pzn = Tmat[2,0]*px + Tmat[2,1]*py + Tmat[2,2]*pz + Tmat[2,3]\n",
    "\n",
    "    # preveri katere koordinate so znotraj 3D slike\n",
    "    idx = np.where((pxn>=0) & (pxn<s3x) & \\\n",
    "                    (pyn>=0) & (pyn<s3y) & \\\n",
    "                    (pzn>=0) & (pzn<s3z))  \n",
    "\n",
    "    oRayInterp = np.zeros_like(pxn)    \n",
    "    pxn = pxn[idx[0],idx[1]]\n",
    "    pyn = pyn[idx[0],idx[1]]\n",
    "    pzn = pzn[idx[0],idx[1]]\n",
    "\n",
    "    # izvedi trilinearno interpolacijo      \n",
    "    oRayInterp_i = interpn((np.arange(s3z),np.arange(s3y),np.arange(s3x)),\n",
    "                  ct['img'].astype('float'),\n",
    "                  np.dstack((pzn,pyn,pxn)),\n",
    "                  method='linear', bounds_error=False, fill_value=0) \n",
    "                      \n",
    "    oRayInterp[idx[0],idx[1]] = oRayInterp_i               \n",
    "\n",
    "    # izvedi dejansko operacijo vzdolz zarkov                  \n",
    "    oRayInterp = np.mean(oRayInterp, axis=1).reshape(rectShape)\n",
    "    \n",
    "    # ustvari izhodne spremenljivke        \n",
    "    oDRR = np.zeros_like(Xray['img']).astype('float')\n",
    "    oMask = np.zeros_like(Xray['img'])\n",
    "\n",
    "    oDRR[ymin:ymax, xmin:xmax] = oRayInterp\n",
    "    oMask[ymin:ymax, xmin:xmax] = 255\n",
    "    \n",
    "    return oDRR, oMask"
   ]
  },
  {
   "cell_type": "code",
   "execution_count": 17,
   "metadata": {},
   "outputs": [
    {
     "name": "stdout",
     "output_type": "stream",
     "text": [
      "Čas izračuna: 204.7 ms\n"
     ]
    },
    {
     "data": {
      "text/plain": [
       "Text(0.5, 1.0, 'Superpozicija')"
      ]
     },
     "execution_count": 17,
     "metadata": {},
     "output_type": "execute_result"
    }
   ],
   "source": [
    "# Testiranje funkcije project3DTo2D\n",
    "iStep = 1 # dolžina koraka vzorčenja v mm\n",
    "# predobdelava 3D in 2D slik    \n",
    "ct_temp = preprocess_ct(ct)\n",
    "Xray_temp = preprocess_Xray(Xray)\n",
    "# zaženi funkcijo in izmeri čas\n",
    "ts = time.time()\n",
    "oDRR, oDRRMask = project3DTo2D_slow(ct_temp, Xray_temp, iStep)    \n",
    "print('Čas izračuna: {:.1f} ms'.format(1000.0*(time.time()-ts)))\n",
    "# tri osi v enem prikaznem oknu\n",
    "f, ax = plt.subplots(1, 3, figsize=(9,3))\n",
    "ax[0].imshow(oDRR, cmap='gray')\n",
    "ax[0].set_title('DRR')\n",
    "ax[1].imshow(Xray_temp['img'], cmap='gray')\n",
    "ax[1].set_title('Xray')      \n",
    "ax[2].imshow(\n",
    "    2*amslib.normalizeImage(oDRR, iType='range') + \n",
    "    amslib.normalizeImage(Xray_temp['img'], iType='range'), \n",
    "    cmap='gray')\n",
    "ax[2].set_title('Superpozicija')"
   ]
  },
  {
   "cell_type": "markdown",
   "metadata": {
    "nbgrader": {
     "grade": false,
     "grade_id": "cell-73d163f9cef5a692",
     "locked": true,
     "schema_version": 3,
     "solution": false,
     "task": false
    }
   },
   "source": [
    "  Projekcija 3D slike na 2D ravnino je računsko intenzivna operacija, ki pa jo je možno enostavno paralelizirati. Izračun posamezne intenzitete v projecirani sliki namreč zahteva izračun oz. aproksimacijo integrala 3D slike vzdolž premice, ki povezuje točko v projicirani slik in pa izvor rentgenskih žarkov. Izračun posamezne intenzitete v projicirani sliki torej lahko izvedemo ločeno oz. paralelno za točke, ki tvorijo projicirano sliko. \n",
    "\n",
    "Paralelizacijo lahko izvedemo z uporabo **grafične procesne enote** (GPU &ndash; ang. graphical processing unit). Poleg strojne opreme za ta namen uporabljamo posebne programske knjižnice. Pri vaji bomo uporabili programsko knjižnico `CUDA`, ki je napisana v jeziku C/C++ in v kateri napišemo program za izvedbo na GPU, in Python knjižnico `pycuda`, ki omogoča klice programske kode na GPU neposredno iz Python skripte. Spodaj je dana implementacija 3D projekcije z omenjenimi knjižnicami.\n",
    "\n",
    "Primerjajte dobljene čase projekcije 3D slike med implementacijo s `CUDA/pycuda` in z implementacijo v Pythonu."
   ]
  },
  {
   "cell_type": "code",
   "execution_count": 10,
   "metadata": {},
   "outputs": [
    {
     "data": {
      "text/plain": [
       "\"\\nfrom drr import VolumeRenderer\\n\\n# naloži in obdelaj surove slike\\nct_temp = preprocess_ct(ct)\\nXray_temp = preprocess_Xray(Xray)\\n# dodamo informacijo o koraku vzorčenja\\nct_temp.update({'spac': [1.0, 1.0, 1.0]})\\nXray_temp.update({'spac': [1.0, 1.0]})\\n# ustvari objekt za generiranje DRR s pycuda\\nvr = VolumeRenderer(\\n    vol=ct_temp, \\n    img=Xray_temp,\\n    ray_step_mm=1, \\n    render_op='drr'\\n)\\n# definiraj ovojniško funkcijo z enakimi vhodnimi parametri kot funkcija project3DTo2D()\\ndef fast_project3DTo2D(ct, Xray, iStep):\\n    # rendering for all 2d image pixels\\n    drr = vr.render(ct['TPos'])\\n    return drr, drr != 0\\n# zaženi in izmeri čas izračuna\\nts = time.clock()\\noDRR, oDRRMask = fast_project3DTo2D(ct_temp, Xray_temp, iStep)    \\nprint('Čas izračuna: {:.1f} ms'.format(1000.0*(time.clock()-ts)))\\n# ustvari tri osi v enem prikaznem oknu\\nf, ax = plt.subplots(1, 3, figsize=(9, 3))\\nax[0].imshow(oDRR, cmap='gray')\\nax[0].set_title('DRR')\\nax[1].imshow(Xray_temp['img'], cmap='gray')\\nax[1].set_title('Xray')      \\nax[2].imshow(\\n    2*amslib.normalizeImage(oDRR, iType='range') + \\n    amslib.normalizeImage(Xray_temp['img'], iType='range'),\\n    cmap='gray')\\nax[2].set_title('Superpozicija')\\n\""
      ]
     },
     "execution_count": 10,
     "metadata": {},
     "output_type": "execute_result"
    }
   ],
   "source": [
    "# hitra različica projekcije 3D slike z implementacijo CUDA na GPU\n",
    "\"\"\"\n",
    "from drr import VolumeRenderer\n",
    "\n",
    "# naloži in obdelaj surove slike\n",
    "ct_temp = preprocess_ct(ct)\n",
    "Xray_temp = preprocess_Xray(Xray)\n",
    "# dodamo informacijo o koraku vzorčenja\n",
    "ct_temp.update({'spac': [1.0, 1.0, 1.0]})\n",
    "Xray_temp.update({'spac': [1.0, 1.0]})\n",
    "# ustvari objekt za generiranje DRR s pycuda\n",
    "vr = VolumeRenderer(\n",
    "    vol=ct_temp, \n",
    "    img=Xray_temp,\n",
    "    ray_step_mm=1, \n",
    "    render_op='drr'\n",
    ")\n",
    "# definiraj ovojniško funkcijo z enakimi vhodnimi parametri kot funkcija project3DTo2D()\n",
    "def fast_project3DTo2D(ct, Xray, iStep):\n",
    "    # rendering for all 2d image pixels\n",
    "    drr = vr.render(ct['TPos'])\n",
    "    return drr, drr != 0\n",
    "# zaženi in izmeri čas izračuna\n",
    "ts = time.clock()\n",
    "oDRR, oDRRMask = fast_project3DTo2D(ct_temp, Xray_temp, iStep)    \n",
    "print('Čas izračuna: {:.1f} ms'.format(1000.0*(time.clock()-ts)))\n",
    "# ustvari tri osi v enem prikaznem oknu\n",
    "f, ax = plt.subplots(1, 3, figsize=(9, 3))\n",
    "ax[0].imshow(oDRR, cmap='gray')\n",
    "ax[0].set_title('DRR')\n",
    "ax[1].imshow(Xray_temp['img'], cmap='gray')\n",
    "ax[1].set_title('Xray')      \n",
    "ax[2].imshow(\n",
    "    2*amslib.normalizeImage(oDRR, iType='range') + \n",
    "    amslib.normalizeImage(Xray_temp['img'], iType='range'),\n",
    "    cmap='gray')\n",
    "ax[2].set_title('Superpozicija')\n",
    "\"\"\""
   ]
  },
  {
   "cell_type": "markdown",
   "metadata": {
    "nbgrader": {
     "grade": false,
     "grade_id": "cell-0eb35d488de10c74",
     "locked": true,
     "schema_version": 3,
     "solution": false,
     "task": false
    }
   },
   "source": [
    "5. Napišite funkcijo za 3D togo preslikavo vzorčne mreže 3D CT slike okoli njenega središča:\n",
    "```python\n",
    "    def rigidTransMatrix( ct, iPar ):\n",
    "        return oTrans\n",
    "```\n",
    "kjer vhodna spremenljivka `ct` predstavlja 3D CT sliko, `iPar` pa šestvrstični vektor $\\mathbf{p}=[t_x, t_y, t_z, \\alpha,$ $\\beta, \\gamma]^{\\mathrm{T}}$ s parametri 3D toge preslikave, kjer so rotacije definirane glede na center 3D slike. Izhodna spremenljivka `oTrans` naj predstavlja matriko toge preslikave 3D CT slike. \n",
    " \n",
    " Razširite funkcijo za 2D projekcijo oz. DRR sliko tako, da bo imela dodatni vhodni parameter `iPar`, npr. `project3DTo2D( ..., iPar )`, kjer je `iPar` je šestvrstični vektor s parametri 3D toge preslikave 3D CT slike okoli njenega središča. Za 3D togo preslikavo 3D CT slike uporabite funkcijo `rigidTransMatrix( ct, iPar )`. Prikažite 2D projekcijske slike za različne vrednosti parametrov preslikave, npr. `iPar = [0 20 0 0 0 0]`, `iPar = [0 0 0 0 45 0]`, `iPar = [0 0 0 0 0 90]`."
   ]
  },
  {
   "cell_type": "code",
   "execution_count": 18,
   "metadata": {
    "nbgrader": {
     "grade": false,
     "grade_id": "cell-78e6d87a1856a197",
     "locked": false,
     "schema_version": 3,
     "solution": true,
     "task": false
    }
   },
   "outputs": [],
   "source": [
    "def rigidTransMatrix(ct, iPar): # iPar = [tx, ty, tz, alpha, beta, gamma]\n",
    "    s3z,s3y,s3x = ct['img'].shape\n",
    "    oRot = amslib.transAffine3D(iTrans=(0,0,0), iRot=(iPar[3],iPar[4],iPar[5]))\n",
    "    oTrans = amslib.transAffine3D(iTrans=(iPar[0],iPar[1],iPar[2]), iRot=(0,0,0))\n",
    "    oCenter = amslib.transAffine3D(iTrans=(-s3x/2, -s3y/2, -s3z/2), iRot=(0,0,0))\n",
    "    oInvCenter = amslib.transAffine3D(iTrans=(s3x/2, s3y/2, s3z/2), iRot=(0,0,0))\n",
    "    oTrans = np.dot(oTrans, np.dot(oInvCenter, np.dot(oRot, oCenter)))\n",
    "    return oTrans\n",
    "\n",
    "\n",
    "def project3DTo2D(ct, Xray, iStep, iPar=[0,0,0,0,0,0]):\n",
    "    TPos = np.dot(ct['TPos'], rigidTransMatrix(ct, iPar))    \n",
    "    newCt = {'img':ct['img'], 'TPos':TPos}\n",
    "    oDRR, oDRR_mask = project3DTo2D_slow(newCt, Xray, iStep)\n",
    "    #oDRR, oDRR_mask = fast_project3DTo2D(newCt, Xray, iStep)\n",
    "    return oDRR, oDRR_mask\n"
   ]
  },
  {
   "cell_type": "code",
   "execution_count": 19,
   "metadata": {},
   "outputs": [
    {
     "name": "stdout",
     "output_type": "stream",
     "text": [
      "3000\n",
      "Čas izračuna: 164.4 ms\n"
     ]
    },
    {
     "data": {
      "text/plain": [
       "Text(0.5, 1.0, 'Superpozicija')"
      ]
     },
     "execution_count": 19,
     "metadata": {},
     "output_type": "execute_result"
    }
   ],
   "source": [
    "# test funkcije z naslednimi parametri\n",
    "import sys\n",
    "print(sys.getrecursionlimit())\n",
    "sys.setrecursionlimit(11500)\n",
    "iPar = [0, 20, 0, 0, 0, 0]\n",
    "iStep = 1\n",
    "# merjenje časa\n",
    "ts = time.time()\n",
    "oDRR, oDRRMask = project3DTo2D(ct_temp, Xray_temp, iStep, iPar)    \n",
    "te = time.time()\n",
    "print('Čas izračuna: {:.1f} ms'.format(1000.0*(te - ts)))\n",
    "# tri osi v enem prikaznem oknu\n",
    "f, ax = plt.subplots(1, 3, figsize=(9,3))\n",
    "ax[0].imshow(oDRR, cmap='gray')\n",
    "ax[0].set_title('DRR')\n",
    "ax[1].imshow(Xray_temp['img'], cmap='gray')\n",
    "ax[1].set_title('Xray')      \n",
    "ax[2].imshow(\n",
    "    2*amslib.normalizeImage(oDRR, iType='range') + \n",
    "    amslib.normalizeImage(Xray_temp['img'], iType='range'), \n",
    "    cmap='gray')\n",
    "ax[2].set_title('Superpozicija')"
   ]
  },
  {
   "cell_type": "markdown",
   "metadata": {
    "nbgrader": {
     "grade": false,
     "grade_id": "cell-ddc5a44b683115b0",
     "locked": true,
     "schema_version": 3,
     "solution": false,
     "task": false
    }
   },
   "source": [
    "6. Napišite funkcijo, ki izračuna vrednost korelacijskega koeficienta med dvema slikama:\n",
    "```python\n",
    "    def correlationCoefficient( iImageI, iImageJ ):\n",
    "        return oMI\n",
    "```\n",
    "kjer sta `iImageI` in `iImageJ` 2D sivinski sliki. Funkcija vrne skalar `oCC`, ki predstavlja vrednost korelacijskega koeficienta. Preizkusite delovanje funkcije tako, da izračunate korelacijski koeficient med projicirano sliko in 2D rentgensko sliko. \n",
    "\n",
    "  Napišite funkcijo, ki izračuna vrednost medsebojne informacije med dvema slikama:\n",
    "```python\n",
    "    def mutualInformation( iImageI, iImageJ, iBins ):\n",
    "        return oMI\n",
    "```\n",
    "kjer sta `iImageI` in `iImageJ` 2D sivinski sliki, `iBins` pa število intervalov za izračun histograma. Funkcija vrne skalar `oMI`. Preizkusite delovanje funkcije tako, da izračunate medsebojno informacijo med projicirano sliko in 2D rentgensko sliko, pri tem pa uporabite le sivinske vrednosti na področju maske projicirane slike. Preučite vpliv števila intervalov `iBins` na vrednost medsebojne informacije.\n",
    "\n",
    " Izračunajte in izrišite vrednosti `oCC` in `oMI` med 2D projekcijami in 2D rentgensko sliko tako, da spreminjate le po en parameter toge preslikave naenkrat. Translacije $t_x$, $t_y$ in $t_z$ spreminjajte od -20 do 20 milimetrov s korakom 2 milimetra, rotacije $\\alpha$, $\\beta$ in $\\gamma$ pa od -10 do 10${}^{\\circ}$ s korakom 1${}^{\\circ}$. \n",
    " \n",
    " Izračunane vrednosti `oCC` in `oMI` predstavljajo vrednosti kriterijske funkcije (CF &ndash; ang. Criterion Function), ki meri podobnosti projicirane in rentgenske slik. Dane preslikave 3D CT in 2D rentgenske slike predstavljajo poravnano lego, zato pričakujete optimalne vrednosti `oCC` in `oMI` pri odmiku 0 mm oz. 0${}^{\\circ}$ glede na posamezen parameter. Preverite delovanje kriterijskih funkcij tako, da narišete ter ustrezno označite grafe $CF(t_x)$, $CF(t_y)$, $CF(t_z)$, $CF(\\alpha)$, $CF(\\beta)$, $CF(\\gamma)$ za obe meri podobnosti ($CF \\in \\{CC, MI\\}$)."
   ]
  },
  {
   "cell_type": "code",
   "execution_count": 20,
   "metadata": {},
   "outputs": [],
   "source": [
    "def correlationCoefficient(iImageI, iImageJ):\n",
    "    '''\n",
    "    Izracunaj korelacijski koeficient med 2D slikama\n",
    "    \n",
    "    Parameters\n",
    "    ----------\n",
    "    iImageI : numpy.ndarray\n",
    "        Sivinska informacija slike I\n",
    "    iImageJ : numpy.ndarray\n",
    "        Sivinska informacija slike J\n",
    "    \n",
    "    Returns\n",
    "    ---------\n",
    "    oCC : float\n",
    "    '''\n",
    "    iImageI = np.asarray(iImageI)\n",
    "    iImageJ = np.asarray(iImageJ)\n",
    "    \n",
    "    return np.mean(\n",
    "        ((iImageI - iImageI.mean()) * (iImageJ - iImageJ.mean())) / iImageJ.std() / iImageI.std())"
   ]
  },
  {
   "cell_type": "code",
   "execution_count": 21,
   "metadata": {},
   "outputs": [],
   "source": [
    "def mutualInformation(iImageI, iImageJ, iBins, iSpan=(None, None)):\n",
    "    '''\n",
    "    Izracunaj medsebojno informacijo med 2D slikama\n",
    "    \n",
    "    Parameters\n",
    "    ----------\n",
    "    iImageI : numpy.ndarray\n",
    "        Sivinska informacija slike I\n",
    "    iImageJ : numpy.ndarray\n",
    "        Sivinska informacija slike J\n",
    "    iBins : int\n",
    "        Stevilo predalov v histogramu\n",
    "    iSpan : tuple | list\n",
    "        Obmocje vrednosti (min, max)\n",
    "    \n",
    "    Returns\n",
    "    ---------\n",
    "    oMI : float   \n",
    "    '''\n",
    "    iImageI = np.asarray(iImageI)\n",
    "    iImageJ = np.asarray(iImageJ)\n",
    "    \n",
    "    # funkcija za pretvorbo sivinskih vrednosti v indekse\n",
    "    def getIndices(iData, iBins, iSpan):\n",
    "        # doloci obmocje sivinskih vrednosti  \n",
    "        minVal, maxVal = iSpan\n",
    "        maxVal = (np.max(iData)+1e-6 if maxVal is None else maxVal)\n",
    "        minVal = (np.min(iData) if minVal is None else minVal)\n",
    "        # pretvori v indeks polja\n",
    "        idx = np.round((iData - minVal) / (maxVal - minVal) * (iBins-1))\n",
    "        idx[idx < 0] = 0\n",
    "        idx[idx >= iBins] = iBins-1\n",
    "        # vrni indekse\n",
    "        return idx.astype('uint32')\n",
    "        \n",
    "    # funkcija za izracun 1D histograma \n",
    "    def hist1D(iData, iBins, iSpan):\n",
    "        # pretvorba sivinskih vrednosti v indekse\n",
    "        idx = getIndices(iData, iBins, iSpan)\n",
    "        # izracunaj histogram\n",
    "        histData = np.zeros((iBins,))\n",
    "        for i in idx:\n",
    "            histData[i] += 1\n",
    "        # vrni glajeni histogram\n",
    "        return ni.convolve(histData, np.array([0.2, 0.6, 0.2]))\n",
    "        \n",
    "    # funkcija za izracun 2D histograma \n",
    "    def hist2D(iData1, iData2, iBins, iSpan):\n",
    "        # pretvorba sivinskih vrednosti v indekse\n",
    "        idx1 = getIndices(iData1, iBins, iSpan)\n",
    "        idx2 = getIndices(iData2, iBins, iSpan)        \n",
    "        # izracunaj histogram\n",
    "        histData = np.zeros((iBins, iBins))    \n",
    "        for (i, j) in zip(idx1, idx2):\n",
    "            histData[i,j] += 1\n",
    "        # vrni glajeni histogram\n",
    "        return ni.convolve(histData, np.array([\n",
    "                [1, 2, 1], [2, 8, 2], [1, 2, 1]])/20.0)    \n",
    "        \n",
    "    # izracunaj histograme slik\n",
    "    hI = hist1D(iImageI, iBins, iSpan)\n",
    "    hJ = hist1D(iImageJ, iBins, iSpan)\n",
    "    hIJ = hist2D(iImageI, iImageJ, iBins, iSpan)\n",
    "\n",
    "    # normaliziraj histograme v gostote verjetnosti    \n",
    "    pI = hI / (np.sum(hI) + 1e-7)\n",
    "    pJ = hJ / (np.sum(hJ) + 1e-7)\n",
    "    pIJ = hIJ / (np.sum(hIJ) + 1e-7)\n",
    "    \n",
    "    # izracunaj entropije    \n",
    "    HI = np.sum(- pI[pI>0] * np.log(pI[pI>0]))\n",
    "    HJ = np.sum(- pJ[pJ>0] * np.log(pJ[pJ>0]))\n",
    "    HIJ = np.sum(- pIJ[pIJ>0] * np.log(pIJ[pIJ>0]))\n",
    "    \n",
    "    # izracunaj medsebojno informacijo\n",
    "    oMI = HI + HJ - HIJ\n",
    "    \n",
    "    return oMI"
   ]
  },
  {
   "cell_type": "code",
   "execution_count": 22,
   "metadata": {},
   "outputs": [
    {
     "data": {
      "text/plain": [
       "Text(0.5, 1.0, 'Parameter \"gamma\"')"
      ]
     },
     "execution_count": 22,
     "metadata": {},
     "output_type": "execute_result"
    }
   ],
   "source": [
    "# Test kriterijskih funkcij z nastavljivimi parametri\n",
    "iCFType = 'mi'  # izberite 'cc' ali 'mi'\n",
    "iBins = 8  # preverite vpliv števila predalov na MI\n",
    "par_range = np.arange(-20, 20, 0.5) # razpon translacij in rotacij ter korak\n",
    "\n",
    "# razpon sivinskih vrednosti za histograme\n",
    "iSpan = [0.0, 255.0] \n",
    "# predobdelava 3D in 2D slik    \n",
    "ct_temp = preprocess_ct(ct)\n",
    "Xray_temp = preprocess_Xray(Xray)\n",
    "# ustvari prazno polje vrednosti\n",
    "par_names = ['tx', 'ty', 'tz', 'alpha', 'beta', 'gamma']\n",
    "oCF_plot = np.zeros([len(par_names), len(par_range)]).astype('float')\n",
    "# normalizacija intenzitet v projekciji\n",
    "oDRR, oDRRMask = project3DTo2D(ct_temp, Xray_temp, iStep)\n",
    "ids = np.where(oDRRMask > 0)\n",
    "xmin, xmax = np.min(ids[1]), np.max(ids[1])\n",
    "ymin, ymax = np.min(ids[0]), np.max(ids[0])\n",
    "\n",
    "verbose = False\n",
    "for par in range(len(par_names)):\n",
    "    for idx in range(len(par_range)):\n",
    "        iPar = np.zeros([len(par_names),1])\n",
    "        iPar[par] = par_range[idx]\n",
    "        \n",
    "                    \n",
    "        oDRR, oDRRMask = project3DTo2D(ct_temp, Xray_temp, iStep, np.squeeze(iPar))\n",
    "\n",
    "        if iCFType == 'mi':\n",
    "            # poklici funkcijo\n",
    "            ids = np.where(oDRRMask > 0)\n",
    "            xmin, xmax = np.min(ids[1]), np.max(ids[1])\n",
    "            ymin, ymax = np.min(ids[0]), np.max(ids[0])\n",
    "            # izreži masko\n",
    "            iImageI = Xray_temp['img'][ymin:ymax, xmin:xmax]\n",
    "            iImageJ = oDRR[ymin:ymax, xmin:xmax]\n",
    "            # normaliziraj intenzitete\n",
    "            iImageI = (iImageI - iImageI.min()) / (iImageI.max() - iImageI.min()) * 255.0\n",
    "            iImageJ = (iImageJ - iImageJ.min()) / (iImageJ.max() - iImageJ.min()) * 255.0\n",
    "            # izračunaj MI\n",
    "            oCF = mutualInformation(iImageI, iImageJ, iBins, iSpan)                    \n",
    "        elif iCFType == 'cc':\n",
    "            iImageI = Xray_temp['img']       \n",
    "            iImageJ = oDRR          \n",
    "            # izračunaj CC\n",
    "            oCF = correlationCoefficient(iImageI, iImageJ)\n",
    "        \n",
    "        oCF_plot[par, idx] = oCF\n",
    "\n",
    "        if verbose:\n",
    "            print('p: {:.1f}, CF={:.2f}'.format(p, oMI)) \n",
    "\n",
    "fig, axs = plt.subplots(2, 3, figsize=(9, 7))\n",
    "axs[0,0].plot(par_range, oCF_plot[0, :])\n",
    "axs[0,0].plot([0, 0], [oCF_plot[0,:].min(), oCF_plot[0,:].max()], 'r--')\n",
    "axs[0,0].set_title('Parameter \"{}\"'.format(par_names[0]))\n",
    "\n",
    "axs[0,1].plot(par_range, oCF_plot[1, :])\n",
    "axs[0,1].plot([0, 0], [oCF_plot[1,:].min(), oCF_plot[1,:].max()], 'r--')\n",
    "axs[0,1].set_title('Parameter \"{}\"'.format(par_names[1]))\n",
    "\n",
    "axs[0,2].plot(par_range, oCF_plot[2, :])\n",
    "axs[0,2].plot([0, 0], [oCF_plot[2,:].min(), oCF_plot[2,:].max()], 'r--')\n",
    "axs[0,2].set_title('Parameter \"{}\"'.format(par_names[2]))\n",
    "\n",
    "axs[1,0].plot(par_range, oCF_plot[3, :])\n",
    "axs[1,0].plot([0, 0], [oCF_plot[3,:].min(), oCF_plot[3,:].max()], 'r--')\n",
    "axs[1,0].set_title('Parameter \"{}\"'.format(par_names[3]))\n",
    "\n",
    "axs[1,1].plot(par_range, oCF_plot[4, :])\n",
    "axs[1,1].plot([0, 0], [oCF_plot[4,:].min(), oCF_plot[4,:].max()], 'r--')\n",
    "axs[1,1].set_title('Parameter \"{}\"'.format(par_names[4]))\n",
    "\n",
    "axs[1,2].plot(par_range, oCF_plot[5, :])\n",
    "axs[1,2].plot([0, 0], [oCF_plot[5,:].min(), oCF_plot[5,:].max()], 'r--')\n",
    "axs[1,2].set_title('Parameter \"{}\"'.format(par_names[5]))                  "
   ]
  },
  {
   "cell_type": "markdown",
   "metadata": {
    "nbgrader": {
     "grade": false,
     "grade_id": "cell-9e08a9d926ea1894",
     "locked": true,
     "schema_version": 3,
     "solution": false,
     "task": false
    }
   },
   "source": [
    "7. Načrtajte avtomatski postopek za poravnavo 3D in 2D slik tako, da ustvarite kriterijsko funkcijo:\n",
    "```python\n",
    "    def criterionFcn( iPar, ct, Xray ):\n",
    "        return oCF\n",
    "```\n",
    "ki pri podanih parametrih 3D toge preslikave `iPar` izračuna vrednost izbrane mere podobnosti med DRR in 2D rentgensko sliko. Optimalne vrednosti parametrov $\\mathbf{p}^*$ toge preslikave določite s pomočjo simpleksne optimizacije (Nelder-Mean) ali Powellove optimizacije."
   ]
  },
  {
   "cell_type": "code",
   "execution_count": 23,
   "metadata": {
    "nbgrader": {
     "grade": false,
     "grade_id": "cell-318e31e7b1cc9391",
     "locked": false,
     "schema_version": 3,
     "solution": true,
     "task": false
    }
   },
   "outputs": [],
   "source": [
    "def criterionFcn(iPar, ct, Xray):\n",
    "    ### BEGIN SOLUTION \n",
    "    cf_type = 'cc' # opcijsko parameter funkcije\n",
    "    iStep = 1\n",
    "    iBins = 8\n",
    "    iSpan = [0.0, 255.0]\n",
    "\n",
    "    oDRR, oDRRMask = project3DTo2D(ct, Xray, iStep, iPar)\n",
    "\n",
    "    if cf_type == 'mi':\n",
    "        ids = np.where(oDRRMask>0)\n",
    "        xmin, xmax = np.min(ids[1]), np.max(ids[1])\n",
    "        ymin, ymax = np.min(ids[0]), np.max(ids[0])\n",
    "        iImageI = Xray['img'][ymin:ymax,xmin:xmax]\n",
    "        iTemp = oDRR[ymin:ymax, xmin:xmax]\n",
    "        imin, imax = np.min(iTemp), np.max(iTemp)\n",
    "        iImageJ = (iTemp - imin) / (imax - imin) * 255.0\n",
    "        oCF = - mutualInformation(iImageI, iImageJ, iBins, iSpan)\n",
    "    elif cf_type == 'cc':\n",
    "        iImageI = Xray['img']\n",
    "        iImageJ = oDRR        \n",
    "        oCF = correlationCoefficient(iImageI, iImageJ)\n",
    "    ### END SOLUTION \n",
    "    return oCF"
   ]
  },
  {
   "cell_type": "code",
   "execution_count": 24,
   "metadata": {
    "scrolled": false
   },
   "outputs": [
    {
     "name": "stdout",
     "output_type": "stream",
     "text": [
      "Iter    CF(p)   \n"
     ]
    },
    {
     "name": "stderr",
     "output_type": "stream",
     "text": [
      "/var/folders/ds/rh95w3ms49jdtt84jdfn69vm0000gn/T/ipykernel_6595/3811062188.py:36: OptimizeWarning: Unknown solver options: xtol, ftol\n",
      "  res = minimize(fun=oCF, x0=iParStart, method=opt_type, tol=1e-6,\n"
     ]
    },
    {
     "name": "stdout",
     "output_type": "stream",
     "text": [
      "   1   -0.007158\n",
      "   2   -0.007158\n",
      "   3   -0.007158\n",
      "   4   -0.007158\n",
      "   5   -0.007449\n",
      "   6   -0.007449\n",
      "   7   -0.007878\n",
      "   8   -0.007878\n",
      "   9   -0.008311\n",
      "  10   -0.008311\n",
      "  11   -0.008673\n",
      "  12   -0.008673\n",
      "  13   -0.008722\n",
      "  14   -0.008722\n",
      "  15   -0.008722\n",
      "  16   -0.008722\n",
      "  17   -0.008722\n",
      "  18   -0.008722\n",
      "  19   -0.008722\n",
      "  20   -0.008722\n",
      "  21   -0.008722\n",
      "  22   -0.008722\n",
      "  23   -0.008722\n",
      "  24   -0.008722\n",
      "  25   -0.008722\n",
      "  26   -0.008722\n",
      "  27   -0.008722\n",
      "  28   -0.008722\n",
      "  29   -0.008722\n",
      "  30   -0.008722\n",
      "  31   -0.008730\n",
      "  32   -0.008740\n",
      "  33   -0.008740\n",
      "  34   -0.008766\n",
      "  35   -0.008766\n",
      "  36   -0.008766\n",
      "  37   -0.008787\n",
      "  38   -0.008787\n",
      "  39   -0.008787\n",
      "  40   -0.008787\n",
      "  41   -0.008817\n",
      "  42   -0.008817\n",
      "  43   -0.008852\n",
      "  44   -0.008852\n",
      "  45   -0.008852\n",
      "  46   -0.008940\n",
      "  47   -0.008940\n",
      "  48   -0.008940\n",
      "  49   -0.009020\n",
      "Čas izračuna: 18.4 s\n",
      "iPar pred poravnavo: [-5, 0, 5, -5, 5, 0]\n",
      "iPar po poravnavi: [-8.11885575e+00  2.24007605e-03  1.04869188e+00 -4.97700587e+00\n",
      "  4.36496593e+00 -4.28586808e-04]\n"
     ]
    },
    {
     "name": "stderr",
     "output_type": "stream",
     "text": [
      "/var/folders/ds/rh95w3ms49jdtt84jdfn69vm0000gn/T/ipykernel_6595/3811062188.py:36: RuntimeWarning: Maximum number of iterations has been exceeded.\n",
      "  res = minimize(fun=oCF, x0=iParStart, method=opt_type, tol=1e-6,\n"
     ]
    },
    {
     "data": {
      "text/plain": [
       "Text(0.5, 1.0, 'Superpozicija v optimalni pozi')"
      ]
     },
     "execution_count": 24,
     "metadata": {},
     "output_type": "execute_result"
    }
   ],
   "source": [
    "# test funkcije\n",
    "opt_type = 'Nelder-Mead'  # izberite 'Powell' ali 'Nelder-Mead'\n",
    "disp_iter = True\n",
    "\n",
    "# OPCIJA 1: optimizacija enega parametra toge preslikave: alpha\n",
    "def get_full_par(iPar):\n",
    "    return [0, 0, 0, iPar, 0, 0]\n",
    "iParStart = get_full_par(-1)\n",
    "\n",
    "\n",
    "# OPCIJA 2: optimizacija vseh 6 parametrov toge preslikave: tx, ty, tz, alpha, beta, gamma\n",
    "iParStart = [-5, 0, 5, -5, 5, 0]\n",
    "\n",
    "def get_full_par(iPar):\n",
    "    return [iPar[0], iPar[1], iPar[2], iPar[3], iPar[4], iPar[5]]\n",
    "\n",
    "# predobdelava 3D in 2D slik    \n",
    "ct_temp = preprocess_ct(ct)\n",
    "Xray_temp = preprocess_Xray(Xray)    \n",
    "\n",
    "# definicija ovojniške funkcije CF(p)\n",
    "oCF = lambda iPar : criterionFcn(get_full_par(iPar), ct_temp, Xray_temp)\n",
    "\n",
    "neval = 1\n",
    "def callbackF(iPar):\n",
    "    global neval\n",
    "    fval = oCF(iPar)\n",
    "    print('{0:4d}   {1: 3.6f}'.format(neval, fval))\n",
    "    neval += 1        \n",
    "if disp_iter:\n",
    "    print('{0:4s}   {1:9s}'.format('Iter', ' CF(p)'))\n",
    "\n",
    "# klic optimizacije\n",
    "ts = time.time()\n",
    "# method = Nelder-Mead (simpleksna optimizacija), Powell\n",
    "res = minimize(fun=oCF, x0=iParStart, method=opt_type, tol=1e-6, \n",
    "                options={'maxiter':50, 'maxfev':5000, 'xtol':1e-6, \n",
    "                'ftol':1e-6, 'disp': disp_iter}, callback=(callbackF if disp_iter else None))\n",
    "iParEnd = res.x\n",
    "print('Čas izračuna: {:.1f} s'.format(time.time()-ts))    \n",
    "print('iPar pred poravnavo: {}\\niPar po poravnavi: {}'.format(\n",
    "      iParStart, iParEnd))\n",
    "\n",
    "iParStart = get_full_par(iParStart)\n",
    "iParEnd = get_full_par(iParEnd)\n",
    "\n",
    "# prikaz rezultatov\n",
    "oDRR_start, oDRRMask = project3DTo2D(ct_temp, Xray_temp, 3, iParStart)\n",
    "oDRR_end, oDRRMask = project3DTo2D(ct_temp, Xray_temp, 3, iParEnd)\n",
    "oDRR_optim, oDRRMask = project3DTo2D(ct_temp, Xray_temp, 3, np.squeeze(np.zeros((6,1))))\n",
    "\n",
    "# Prikaz\n",
    "f1, ax1 = plt.subplots(1, 3, figsize=(9, 3))\n",
    "ax1[0].imshow(oDRR_start, cmap='gray')\n",
    "ax1[0].set_title('DRR pred poravnavo')\n",
    "\n",
    "ax1[1].imshow(oDRR_end, cmap='gray')\n",
    "ax1[1].set_title('DRR po poravnavi')\n",
    "\n",
    "ax1[2].imshow(np.abs(oDRR_end-oDRR_optim), cmap='gray')\n",
    "ax1[2].set_title('Razlika DRR ocena in optimum')\n",
    "\n",
    "f2, ax2 = plt.subplots(1, 3, figsize=(9, 3))\n",
    "ax2[0].imshow(2*amslib.normalizeImage(oDRR_start, iType='range') + \n",
    "  amslib.normalizeImage(Xray_temp['img'], iType='range'), cmap='gray')\n",
    "ax2[0].set_title('Superpozicija pred poravnavo')\n",
    "\n",
    "ax2[1].imshow(2*amslib.normalizeImage(oDRR_end, iType='range') + \n",
    "  amslib.normalizeImage(Xray_temp['img'], iType='range'), cmap='gray')\n",
    "ax2[1].set_title('Superpozicija po poravnavi')\n",
    "\n",
    "ax2[2].imshow(2*amslib.normalizeImage(oDRR_optim, iType='range') + \n",
    "  amslib.normalizeImage(Xray_temp['img'], iType='range'), cmap='gray')\n",
    "ax2[2].set_title('Superpozicija v optimalni pozi')\n"
   ]
  },
  {
   "cell_type": "code",
   "execution_count": null,
   "metadata": {},
   "outputs": [],
   "source": []
  }
 ],
 "metadata": {
  "celltoolbar": "Create Assignment",
  "kernelspec": {
   "display_name": "venv",
   "language": "python",
   "name": "python3"
  },
  "language_info": {
   "codemirror_mode": {
    "name": "ipython",
    "version": 3
   },
   "file_extension": ".py",
   "mimetype": "text/x-python",
   "name": "python",
   "nbconvert_exporter": "python",
   "pygments_lexer": "ipython3",
   "version": "3.9.6"
  }
 },
 "nbformat": 4,
 "nbformat_minor": 2
}
