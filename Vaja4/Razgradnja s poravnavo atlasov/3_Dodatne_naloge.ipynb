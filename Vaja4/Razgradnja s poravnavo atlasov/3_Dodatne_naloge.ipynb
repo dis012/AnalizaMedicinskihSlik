{
 "cells": [
  {
   "cell_type": "markdown",
   "metadata": {
    "nbgrader": {
     "grade": false,
     "grade_id": "cell-837fa2609b5ef921",
     "locked": true,
     "schema_version": 3,
     "solution": false,
     "task": false
    }
   },
   "source": [
    "# Dodatne naloge\n",
    "\n",
    "Dodatne naloge naj služijo za poglobitev spretnosti programiranja, boljšemu razumevanju snovi in vsebine vaje in spoznavanju dodatnih načinov za obdelavo in analizo medicinskih slik. Opravljanje dodatnih nalog je neobvezno, vendar pa priporočljivo."
   ]
  },
  {
   "cell_type": "code",
   "execution_count": 3,
   "metadata": {},
   "outputs": [],
   "source": [
    "import os\n",
    "import shutil\n",
    "import numpy as np\n",
    "import SimpleITK as sitk\n",
    "from scipy.ndimage import convolve\n",
    "\n",
    "import matplotlib.pyplot as plt\n",
    "\n",
    "LABELS = {\n",
    "    1: 'caudate',\n",
    "    2: 'pallidum',\n",
    "    3: 'putamen',\n",
    "    4: 'thalamus',    \n",
    "    5: 'cortex'\n",
    "}\n",
    "\n",
    "imgs = sitk.GetArrayFromImage(sitk.ReadImage('data/t1-images.nii.gz'))    \n",
    "msks = sitk.GetArrayFromImage(sitk.ReadImage('data/gm-masks.nii.gz')) "
   ]
  },
  {
   "cell_type": "markdown",
   "metadata": {
    "nbgrader": {
     "grade": false,
     "grade_id": "cell-2b7144069ecf7971",
     "locked": true,
     "schema_version": 3,
     "solution": false,
     "task": false
    }
   },
   "source": [
    "1. Napišite funkcijo za izgradnjo referenčnega atlasa z aritmetičnim povprečenjem in nepristransko skupinsko poravnavo slik:\n",
    "```python \n",
    "    def atlasConstruction( iImages, iLabelMaps, iMaxIter ):\n",
    "\t\treturn oAtlasImage, oImages, oLabelMaps\n",
    "```\n",
    " kjer `iImages` predstavlja seznam (`list`) 2D slik, `iLabelMaps` pa seznam (`list`) mask značk, ki pripadajo vhodnim 2D slikam. Funkcija iterativno z **aritmetičnim povprečenjem** poravnavnih slik zgradi referenčni atlas, na katerega se nato z netogo poravnavo poravnajo vse 2D slike, nato se zgradi nov referenčni atlas, itd. Postopek naj se iterativno ponovi do `iMaxIter` števila iteracij. Funkcija naj po zadnji iteraciji vrne referenčni atlas v spremenljivki `oAtlasImage` in pa seznam poravnanih 2D slik in pripadajočih značk v spremenljivkah `oImages` in `oLabelMaps`.\n",
    "\n",
    " Uporabite vse prečne rezine v sliki `t1-images.nii.gz` in pripadajoče maske značk `gm-masks.nii.gz` za izgradnjo referenčnega atlasa. Prikažite referenčni atlas in preverite, da so prečne rezine in maske značk v spremenljivkah `oImages` in `oLabelMaps` medsebojno poravnane.\n",
    "\n",
    " Pridobljene poravnane slike in maske maske značk uporabite za razgradnjo prve rezine podobno kot pri nalogah iz vaj tako, da pri zlivanju izpustite prvo rezino. Preverite delovanje postopka `fusionMajorityVoting()` in `fusionShapeBasedAveraging()`. Vrednotite uspešnost razgradnje z Diceovim koeficientom tako, da z zlivanjem pridobljeno masko značk primerjate z masko ročno določenih značk na prvi rezini."
   ]
  },
  {
   "cell_type": "code",
   "execution_count": 30,
   "metadata": {
    "nbgrader": {
     "grade": false,
     "grade_id": "cell-05c91b14b1e13dfc",
     "locked": false,
     "schema_version": 3,
     "solution": true,
     "task": false
    }
   },
   "outputs": [],
   "source": [
    "### BEGIN SOLUTION\n",
    "def bsplineRegistration(iFixed, iMoving, iBSplineGridSpacing, iMaxIter):\n",
    "    iFixed = sitk.GetImageFromArray(iFixed.astype('float'))\n",
    "    iMoving = sitk.GetImageFromArray(iMoving.astype('float'))    \n",
    "    # inicializacija postopka\n",
    "    R = sitk.ImageRegistrationMethod()\n",
    "\n",
    "    # inicializacija preslikave z B-zlepki\n",
    "    bTr = sitk.BSplineTransformInitializer(iFixed, [iBSplineGridSpacing]*2)\n",
    "    R.SetInitialTransform(bTr, inPlace=True)\n",
    "\n",
    "    # inicializacija mere podobnosti\n",
    "    R.SetMetricAsMattesMutualInformation(64)  # SPREMENJENO od vaj\n",
    "    R.SetMetricSamplingPercentage(0.10)       # SPREMENJENO od vaj\n",
    "    R.SetMetricSamplingStrategy(R.RANDOM)\n",
    "\n",
    "    # inicializacija optimizacije\n",
    "    R.SetOptimizerAsGradientDescentLineSearch(learningRate=5.0,\n",
    "        numberOfIterations=iMaxIter,\n",
    "        convergenceMinimumValue=1e-5,\n",
    "        convergenceWindowSize=5)\n",
    "    R.SetOptimizerScalesFromPhysicalShift()\n",
    "\n",
    "    # zagon poravnave\n",
    "    outTx = R.Execute(iFixed, iMoving)\n",
    "    return outTx\n",
    "\n",
    "def bsplineResample(iFixed, iMoving, iTx, iInterpType=sitk.sitkLinear):\n",
    "    iFixed = sitk.GetImageFromArray(iFixed)\n",
    "    iMoving = sitk.GetImageFromArray(iMoving)\n",
    "    # ustvarjanje izhodne slike\n",
    "    S = sitk.ResampleImageFilter()\n",
    "    S.SetReferenceImage(iFixed)\n",
    "    S.SetInterpolator(iInterpType)\n",
    "    S.SetDefaultPixelValue(0)\n",
    "    S.SetTransform(iTx)\n",
    "    return sitk.GetArrayFromImage(S.Execute(iMoving))\n",
    "\n",
    "def atlasRegistration(images, masks, maxiter=5, outiter=False, verbose=True):\n",
    "    reg_images = images\n",
    "    reg_masks = []\n",
    "    iter = 0\n",
    "    while maxiter>0:\n",
    "        if verbose:\n",
    "            print('iteracija: {}'.format(iter))\n",
    "            iter += 1\n",
    "        atlas = np.mean(images.astype('float'), axis=-1)\n",
    "        if outiter:\n",
    "            # shranjevanje vmesne slike atlasa\n",
    "            out_atlas = itk.GetImageFromArray(atlas)\n",
    "            itk.WriteImage(itk.Cast(out_atlas, itk.sitkUInt16),\n",
    "                           os.path.join(pth_out, 'atlas-mean-iter{}{}'.format(\n",
    "                               iter,s.DEFAULT_IMAGE_FORMAT)), True)\n",
    "        \n",
    "        reg_images = []\n",
    "        reg_masks = []\n",
    "       # atlas_img = itk.GetImageFromArray(atlas)\n",
    "        for i in range(images.shape[-1]):\n",
    "            if verbose:\n",
    "                print('\\tporavnava: {}/{}'.format(i+1, images.shape[-1]))\n",
    "            img = images[:,:,i]\n",
    "            msk = masks[:,:,i]\n",
    "            # poravnava in vzorčenje\n",
    "            reg_tx = bsplineRegistration(atlas, img, 8, 50)\n",
    "            reg_img = bsplineResample(atlas, img, reg_tx)\n",
    "            reg_msk = bsplineResample(atlas, msk, reg_tx, itk.sitkNearestNeighbor)\n",
    "            \n",
    "            reg_images.append(reg_img)\n",
    "            reg_masks.append(reg_msk)\n",
    "        reg_images = np.dstack(reg_images)\n",
    "        maxiter -= 1\n",
    "    images = reg_images\n",
    "    masks = np.dstack(reg_masks)\n",
    "    atlas = np.mean(images.astype('float'), axis=-1)\n",
    "    return atlas, images, masks\n",
    "\n",
    "\n",
    "### END SOLUTION"
   ]
  },
  {
   "cell_type": "markdown",
   "metadata": {
    "nbgrader": {
     "grade": false,
     "grade_id": "cell-9d6163535454b954",
     "locked": true,
     "schema_version": 3,
     "solution": false,
     "task": false
    }
   },
   "source": [
    "2. Knjižnica `SimpleITK` vključuje implementacijo postopka STAPLE (STAPLE: simultaneous truth and performance level estimation) za statistično zlivanje značk:\n",
    "```python\n",
    "\titk.STAPLE(labelVector, confidenceWeight=1.0, foregroundValue=1.0, maximumIterations=5)\n",
    "```\n",
    " Funkcija omogoča zlivanje binarnih mask, torej le mask, ki vsebujejo le značko ospredja in ozadja. Izhod funkcije je polje verjetnosti, iz katere lahko z upragovljanjem vrednosti nad 0.5 pridobimo masko značke ospredja. Zlivanja mask z večimi značkami ta implementacija ne omogoča, vendar jo lahko izvedemo tako, da vsako značko ločeno zlijemo in nato združimo v eno masko značk.\n",
    "\n",
    "\t* Preizkusite delovanje funkcije tako, da zlijete poravnane maske značk področja $l=1$ (kavdatno jedro), ki ste jih izračunali pri prejšnji nalogi. Preverite vpliv števila iteracij na rezultat postopka in določite po vašem optimalno število iteracij. Pri tem si lahko pomagate z izračunom Diceovega koeficienta.\n",
    "\n",
    "\t* Napišite funkcijo za zlivanje mask z večimi značkami na osnovi dane implementacije postopka STAPLE:\n",
    "\t```python\n",
    "\t\tdef fusionMultilabelSTAPLE( iLabelMaps ):\n",
    "\t\t\treturn oLabelMap\n",
    "        ```\t\n",
    "        kjer `iLabelMaps` predstavlja seznam (`list`) mask značk, funkcija pa vrne masko zlitih značk `oLabelMap`. Pri prejšnji nalogi pridobljene poravnane rezine v `t1-images.nii.gz` in maske maske značk `gm-masks.nii.gz` uporabite za razgradnjo prve rezine tako, da pri zlivanju izpustite prvo rezino. Vrednotite uspešnost razgradnje z Diceovim koeficientom tako, da z zlivanjem pridobljeno masko značk primerjate z masko ročno določenih značk na prvi rezini. Kateri od postopkov zlivanja vrne najboljše vrednosti Diceovih koeficientov?\n",
    "\n"
   ]
  },
  {
   "cell_type": "code",
   "execution_count": null,
   "metadata": {
    "nbgrader": {
     "grade": false,
     "grade_id": "cell-ff60aa32ed4bf5ee",
     "locked": false,
     "schema_version": 3,
     "solution": true,
     "task": false
    }
   },
   "outputs": [],
   "source": [
    "### BEGIN SOLUTION\n",
    "def fusionMultilabelStaple(masks, labels):\n",
    "    # ospredje\n",
    "    out_msk = np.zeros(masks.shape[:2])\n",
    "    for k in labels:\n",
    "        labmask = (masks == k).astype('uint32')\n",
    "        labvect = [itk.GetImageFromArray(labmask[:,:,z]) for z in range(labmask.shape[-1])]\n",
    "        labfusion = itk.STAPLE(labvect, 1.0, 1.0, 50)\n",
    "        # labfusion = itk.STAPLE(labvect, confidenceWeight=1.0, foregroundValue=1.0, maximumIterations=5)\n",
    "        labfusion = itk.GetArrayFromImage(labfusion)\n",
    "        labfusion[np.isnan(labfusion)] = 0.0\n",
    "        out_msk[labfusion>0.5] = k\n",
    "    return out_msk\n",
    "\n",
    "print 'Computing staple'\n",
    "out_staple = cu.to_path('fusion_staple{}'.format(s.DEFAULT_IMAGE_FORMAT), pth_out)\n",
    "if not os.path.exists(out_staple):\n",
    "    mv = []\n",
    "    msk = iu.get_array(out_mask)\n",
    "    for z in range(msk.shape[-1]):\n",
    "        idx = [zi for zi in range(msk.shape[-1]) if zi != z]\n",
    "        mv.append(fusionStaple(msk[:,:,idx], labels))\n",
    "    itk.WriteImage(itk.GetImageFromArray(np.dstack(mv).astype('uint8')), out_staple, True)\n",
    "segPerformance(out_staple, out_mask, labels)\n",
    "\n",
    "\n",
    "### END SOLUTION"
   ]
  },
  {
   "cell_type": "markdown",
   "metadata": {
    "nbgrader": {
     "grade": false,
     "grade_id": "cell-214f2dd392e7bcc7",
     "locked": true,
     "schema_version": 3,
     "solution": false,
     "task": false
    }
   },
   "source": [
    "3. Napišite funkcijo za razgradnjo na osnovi poravnave in zlivanja večih atlasov s pomočjo lokalno uteženega glasovanja:\n",
    "```python\n",
    "def fusionLocallyWeightedVoting( iFixed, iMovingImages, iMovingLabelMaps ):\n",
    "\t\treturn oFixedLabelMap\n",
    "```\n",
    " kjer `iFixed` predstavlja referenčno 2D sliko, in `iMovingImages` pa seznam (`list`) premičnih vhodnih 2D slik. Premičnim slikam pripadajo tudi vhodne maske značk `iMovingLabelMaps`, ki jih želimo zliti v novo masko značk. Funkcija naj v spremenljivki `oFixedLabelMap` vrne v prostoru referenčne slike zlite nove značke, ki predstavljajo razgradnjo slike `iFixed`.\n",
    "\n",
    " Za učinkovito implementacijo križno-korelacijskega koeficienta lahko razvijete števec in imenovalec funkcije v enačbi $w_n(\\mathbf{x}) = CC(\\mathbf{x}|\\mathcal{I}_n, \\mathcal{J})$ (glej prvi zvezek) ter posamezne člene izračunate s pomočjo diskretne 2D konvolucije s kvadratnim *box* jedrom (npr. `np.ones([11, 11])`). Za diskretno konvolucijo lahko uporabite funkcijo `convolve()` v Python knjižnici `scipy.ndimage`. \n",
    "\n",
    "\t* Pri 5. nalogi  vaj ste poravnali rezine v `t1-images.nii.gz` in maske maske značk `gm-masks.nii.gz`. Uporabite jih za razgradnjo prve rezine tako, da pri zlivanju izpustite prvo rezino. Vrednotite uspešnost razgradnje z Diceovim koeficientom tako, da z zlivanjem pridobljeno masko značk primerjate z masko ročno določenih značk na prvi rezini. Kateri od postopkov zlivanja vrne najboljše vrednosti Diceovih koeficientov?\n",
    "\n",
    "\t* Določite optimalno velikost kvadratne okolice za izračun križno-korelacijskega koeficienta tako, da dobljena razgradnja dosežete maksimalno vrednost Diceovega koeficienta.\n"
   ]
  },
  {
   "cell_type": "code",
   "execution_count": null,
   "metadata": {
    "nbgrader": {
     "grade": false,
     "grade_id": "cell-287f11d2bdc69e2c",
     "locked": false,
     "schema_version": 3,
     "solution": true,
     "task": false
    }
   },
   "outputs": [],
   "source": [
    "### BEGIN SOLUTION\n",
    "def fusionLocalWeightedMajorityVoting(target, images, masks, labels, similarity='cc', kernel_size=11, exppar=8.0):\n",
    "    # izracunaj utezi\n",
    "    origin = [int(kernel_size / 2)] * 2 + [0]\n",
    "    if similarity == 'msd':\n",
    "        weights = convolve((images-target[:,:,np.newaxis])**2.0,\n",
    "                           np.ones([kernel_size]*2+[1]),\n",
    "                           origin=origin\n",
    "                           )**(-1.0)\n",
    "    elif similarity == 'cc':\n",
    "        weights = convolve(images*target[:,:,np.newaxis], np.ones([kernel_size]*2+[1]), origin=origin)\n",
    "        vari = convolve(images**2.0, np.ones([kernel_size]*2+[1]), origin=origin)\n",
    "        vart = convolve(target[:,:,np.newaxis]**2.0, np.ones([kernel_size]*2+[1]), origin=origin)\n",
    "        weights = (weights / np.sqrt(vari*vart + 1e-7))**exppar\n",
    "        # weights = (weights / np.sum(weights, axis=-1)[:,:,np.newaxis])**5.0\n",
    "    labcount = []\n",
    "    # ozadje\n",
    "    labcount.append(np.sum((masks == 0).astype('float')*weights, axis=-1))\n",
    "    # ospredje\n",
    "    lab = []\n",
    "    for k in labels:\n",
    "        lab.append(k)\n",
    "        labcount.append(np.sum((masks == k).astype('float')*weights, axis=-1))\n",
    "    idx = np.argmax(labcount,axis=0)\n",
    "    out_msk = np.zeros_like(idx)\n",
    "    for i in range(1,len(lab)+1):\n",
    "        out_msk[idx == i] = lab[i-1]\n",
    "    return out_msk\n",
    "\n",
    "### END SOLUTION"
   ]
  },
  {
   "cell_type": "markdown",
   "metadata": {
    "nbgrader": {
     "grade": false,
     "grade_id": "cell-148adcf191fb233c",
     "locked": true,
     "schema_version": 3,
     "solution": false,
     "task": false
    }
   },
   "source": [
    "4. Razširite funkcijo za izgradnjo referenčnega atlasa z dodatnim vhodnim parametrom iMeanType`, tj. atlasConstruction(..., iMeanType)`, kjer so možne vrednosti tega parametra `'arithmetic'`, `'geometric'` ali `'harmonic'`, glede na to s kakšnim načinom povprečenja želimo zgraditi referenčni atlas. \n",
    "\n",
    "    * Izgradite referenčni atlas z vsakim od treh načinov povprečenja in primerjajte dobljene slike referenčnih atlasov. Uporabite vse prečne rezine v sliki `t1-images.nii.gz` in pripadajoče maske značk `gm-masks.nii.gz` za izgradnjo referenčnega atlasa. Izvedite tri iteracije za izgradnjo atlasa (`iMaxIter=3`) in shranite povprečne slike v vsaki iteraciji ter slike prikažite. \n",
    "\n",
    "    * Preverite kako izbira načina povprečenja vpliva na razgradnjo slik s poravnavo in zlivanjem značk tako, da podobno kot pri prvi dodatni nalogi izvedete zlivanje ter določite Diceove koeficiente za vsako od petih $GM$ struktur ($l=\\{ 1, 2, 3, 4, 5 \\}$). Kateri način povprečenja in kateri način zlivanja slik da najboljši rezultat?"
   ]
  },
  {
   "cell_type": "code",
   "execution_count": null,
   "metadata": {
    "nbgrader": {
     "grade": false,
     "grade_id": "cell-4e30775f4f3a2367",
     "locked": false,
     "schema_version": 3,
     "solution": true,
     "task": false
    }
   },
   "outputs": [],
   "source": [
    "### BEGIN SOLUTION\n",
    "def atlasConstruction(images, type='mean'):\n",
    "    if type == 'mean':\n",
    "        return np.mean(images.astype('float'), axis=-1)\n",
    "    elif type == 'geometric':\n",
    "        return np.prod(images.astype('float'), axis=-1)**float(1.0/images.shape[-1])\n",
    "    elif type == 'harmonic':\n",
    "        return np.mean((images.astype('float') + 1e-7)**(-1.0), axis=-1)**(-1.0)\n",
    "\n",
    "def atlasRegistration(images, masks, maxiter=5, outiter=True, verbose=True):\n",
    "    reg_images = images\n",
    "    reg_masks = []\n",
    "    iter = 0\n",
    "    while maxiter>0:\n",
    "        if verbose:\n",
    "            print 'iteracija: {}'.format(iter)\n",
    "            iter += 1\n",
    "        atlas = atlasConstruction(reg_images)\n",
    "        if outiter:\n",
    "            # shranjevanje vmesne slike atlasa\n",
    "            out_atlas = itk.GetImageFromArray(atlas)\n",
    "            itk.WriteImage(itk.Cast(out_atlas, itk.sitkUInt16),\n",
    "                           os.path.join(pth_out, 'atlas-mean-iter{}{}'.format(\n",
    "                               iter,s.DEFAULT_IMAGE_FORMAT)), True)\n",
    "            itk.WriteImage(itk.Cast(itk.GetImageFromArray(\n",
    "                atlasConstruction(reg_images,'geometric')), itk.sitkUInt16),\n",
    "                           os.path.join(pth_out, 'atlas-geom-iter{}{}'.format(\n",
    "                               iter, s.DEFAULT_IMAGE_FORMAT)), True)\n",
    "            itk.WriteImage(itk.Cast(itk.GetImageFromArray(\n",
    "                atlasConstruction(reg_images,'harmonic')), itk.sitkUInt16),\n",
    "                           os.path.join(pth_out, 'atlas-harm-iter{}{}'.format(\n",
    "                               iter, s.DEFAULT_IMAGE_FORMAT)), True)\n",
    "        reg_images = []\n",
    "        reg_masks = []\n",
    "        atlas_img = itk.GetImageFromArray(atlas)\n",
    "        for i in range(images.shape[-1]):\n",
    "            if verbose:\n",
    "                print '\\tporavnava: {}/{}'.format(i+1, images.shape[-1])\n",
    "            img = itk.GetImageFromArray(images[:,:,i].astype('float'))\n",
    "            msk = itk.GetImageFromArray(masks[:,:,i])\n",
    "            reg_tx = nonrigidRegistration(atlas_img, img)\n",
    "            reg_img = nonrigidResample(atlas_img, img, reg_tx)\n",
    "            reg_msk = nonrigidResample(atlas_img, msk, reg_tx, itk.sitkNearestNeighbor)\n",
    "            reg_images.append(itk.GetArrayFromImage(reg_img))\n",
    "            reg_masks.append(itk.GetArrayFromImage(reg_msk))\n",
    "        reg_images = np.dstack(reg_images)\n",
    "        maxiter -= 1\n",
    "    images = reg_images\n",
    "    masks = np.dstack(reg_masks)\n",
    "    atlas = atlasConstruction(images)\n",
    "    return atlas, images, masks\n",
    "### END SOLUTION"
   ]
  },
  {
   "cell_type": "markdown",
   "metadata": {
    "nbgrader": {
     "grade": false,
     "grade_id": "cell-ab43a83beefc9b22",
     "locked": true,
     "schema_version": 3,
     "solution": false,
     "task": false
    }
   },
   "source": [
    "5. Na osnovi optimalno poravnanih slik iz prejšnje naloge izgradite statističen atlas za vsako od petih $GM$ struktur ($l=\\{ 1, 2, 3, 4, 5 \\}$) tako, da uporabite vse maske značk `oLabelMaps`. Statističen atlas bo podan s petimi slikami z vrednostmi od 0 do 1, od katerih vsaka predstavlja prostorsko verjetnost posamezne $GM$ strukture.\n"
   ]
  },
  {
   "cell_type": "code",
   "execution_count": null,
   "metadata": {},
   "outputs": [],
   "source": []
  }
 ],
 "metadata": {
  "celltoolbar": "Create Assignment",
  "kernelspec": {
   "display_name": "Python 3",
   "language": "python",
   "name": "python3"
  },
  "language_info": {
   "codemirror_mode": {
    "name": "ipython",
    "version": 3
   },
   "file_extension": ".py",
   "mimetype": "text/x-python",
   "name": "python",
   "nbconvert_exporter": "python",
   "pygments_lexer": "ipython3",
   "version": "3.6.9"
  }
 },
 "nbformat": 4,
 "nbformat_minor": 2
}
