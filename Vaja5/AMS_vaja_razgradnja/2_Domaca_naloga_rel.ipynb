{
 "cells": [
  {
   "cell_type": "markdown",
   "metadata": {
    "nbgrader": {
     "grade": false,
     "grade_id": "cell-3660155902c6ddce",
     "locked": true,
     "schema_version": 3,
     "solution": false,
     "task": false
    }
   },
   "source": [
    "## Sedma domača naloga\n",
    "Opravljanje domačih nalog je **obvezno**. Uspešno rešene domače naloge so **pogoj za pristop k izpitu**. Rok za oddajo je **torek 13. decembra ob 23:59**.\n",
    "\n",
    "Domače naloge rešujte **samostojno**.\n",
    "\n",
    "## Gradivo\n",
    "Za reševanje domačo nalogo potrebujete datoteke `data/t1.nrrd`, `data/t2.nrrd`, `data/pd.nrrd`, ki predstavljajo 3D sivinske slike T1-, T2- in PD-utežene MR sekvence, datoteka `data/msk.nrrd` pa podaja pripadajoče referenčne obrise (maske) možganskih struktur. Vse slike in maske imajo dimenzije $217 \\times 181 \\times 181$, korak vzorčenja je 1 mm vzdolž vseh osi slike. Sivinske vrednosti T1-, T2- in PD-uteženih MR slik so zapisane z nepredznačenimi 8-bitnimi celimi števili. Referenčni obrisi možganskih struktur so v datoteki `msk.nrrd` v nepredznačenem 8-bitnem celoštevilskem zapisu, obrisi posameznih struktur pa imajo standardizirane oznake. Oznake normalnih in patoloških možganskih struktur $z_{CSF}$, $z_{GM}$ in $z_{WM}$  so dane kot $L=\\{ CSF=1, GM=2, WM=3, LESIONS=10 \\}$. "
   ]
  },
  {
   "cell_type": "markdown",
   "metadata": {
    "nbgrader": {
     "grade": false,
     "grade_id": "cell-fc94d3cb1832b83a",
     "locked": true,
     "schema_version": 3,
     "solution": false,
     "task": false
    }
   },
   "source": [
    "1\\. Na vajah smo implementirali razširjeni algoritem $k$-povprečij++, ki za določanje začetnih središč $\\mu_{+i}^{(0)}$ uporablja iterativni postopek. \n",
    "Tokrat implementirajte funkcijo za razgradnjo MR slik glave s postopkom $k$-povprečij, ki kot začetna središča $\\mu_{i}^{(0)}, i=1,2,\\ldots, k.$ izbere **naključne značilnice** $y_j$. Primerjati želimo **število iterativnih korakov postopka** $k$-povprečij in $k$-povprečij++ glede na način za primer razgradnje MR slike glave.  \n",
    " \n",
    "Kot vhod uporabite značilnice $y_j=[y_j^{(1)}, y_j^{(2)}, y_j^{(3)}]$ 3D sivinskih MR slik `data/t1.nrrd`, `data/t2.nrrd`, `data/pd.nrrd`, zajetih s T1-, T2- in PD-uteženo sekvenco struktor množice $L$. Binarno masko `M` področja možganskih struktur določite iz danih referenčnih obrisov `data/msk.nrrd`, in sicer kot unijo področij $\\Omega_M = \\bigcup_{i=1}^L\\, \\Omega_i$ , ki ustrezajo danim oznakam $L$. \n",
    "\n",
    "\n",
    "* Postopka $k$-povprečij in $k$-povprečij++ za razgradnjo MR slike glave ponovite 20-krat, kjer za število središč določite $k=3$. Kolikšno je povprečno število iteracij do konvergence prvega in drugega algoritma? Ali je uporaba algoritma $k$-povprečij++ smiselna, kljub dodatnim operacijam potrebnim za boljšo inicializacijo začetnih vrednosti?\n",
    "\n",
    "* Grafično prikažite središčne točke $\\mu^{(5)}_{\\ i}$ in $\\mu^{(5)}_{+\\ i}, i=1,2,3$, torej središča obeh postopkov po petem koraku (vseh 20-ih ponovitev). Središčne točke algoritma $k$-povprečij prikažite z rdečo, postopka $k$-povprečij++ pa z modro barvo. Kaj lahko opazimo?\n",
    "\n",
    "* Definiramo povprečni premik središč v $j$-ti iteraciji\n",
    "$$\n",
    "\\bar{d_j} = \\frac{1}{3}\\sum_{i=1}^3 d(\\mu^{(j)}_{i}, \\mu^{(j-1)}_{i})\n",
    "$$\n",
    "kjer je $d(\\cdot, \\cdot)$ evklidska razdalja. Izračunajte vektor povprečnih premikov središč $\\bar{d}$, od inicializacije do konvergence, vseh 20-ih ponovitev za oba postopka. Krivulje prikažite grafično, kjer premike algoritma $k$-povprečij prikažite z rdečo, postopka $k$-povprečij++ pa z modro barvo."
   ]
  },
  {
   "cell_type": "code",
   "execution_count": null,
   "metadata": {
    "nbgrader": {
     "grade": true,
     "grade_id": "cell-edd58ddc5a7a83c9",
     "locked": false,
     "points": 20,
     "schema_version": 3,
     "solution": true,
     "task": false
    }
   },
   "outputs": [
    {
     "name": "stdout",
     "output_type": "stream",
     "text": [
      "0\n",
      "1\n",
      "2\n",
      "3\n",
      "4\n",
      "5\n",
      "6\n",
      "7\n"
     ]
    }
   ],
   "source": [
    "# BEGIN SOLUTION\n",
    "\n",
    "\n",
    "# END SOLUTION\n"
   ]
  },
  {
   "cell_type": "markdown",
   "metadata": {
    "nbgrader": {
     "grade": false,
     "grade_id": "cell-a0084f0d49bec1e0",
     "locked": true,
     "schema_version": 3,
     "solution": false,
     "task": false
    }
   },
   "source": [
    "2\\. V domači nalogi boste spoznali model Gaussovih mešanic (GMM &mdash; *angl.* Gaussian Mixture Models), ter ga primerjali z modelom razvrščanja $k$-povprečij, ki smo ga spoznali na vajah. \n",
    "\n",
    "Uporabite implementacijo Gaussovih mešanic `GaussianMixture` iz knjižnice `sklearn.mixture`. Ta ob inicializaciji sprejme parameter `k`, število gruč. Postopek s klicem funkcije `fit` naučimo na matriki značilnic $Y$, dimenzij $N\\times d$, s klicem funkcije `predict` pa dobimo vektor `z` dolžine $N$, indeksov pripadajoče gruče.\n",
    "\n",
    "```python\n",
    "GMM = GaussianMixture(n_components=k).fit(Y)\n",
    "z = GMM.predict(Y)\n",
    "```\n",
    "\n",
    "* S funkcijo `multivariate_normal` knjižnice `numpy.random` generirajte po 500 vzorcev treh bivariatnih normalnih porazdelitev $\\mathbf{N}_1$, $\\mathbf{N}_2$ in $\\mathbf{N}_3$   ter jih izrišite. Vsako gručo označite z drugo barvo. \n",
    "$$\n",
    "\\mathbf{N}_1 \\bigg( \\begin{bmatrix} 1\\\\ \\frac{3}{2}  \\end{bmatrix},\n",
    "\\begin{bmatrix} \\frac{1}{2} & 0 \\\\ 0 & \\frac{1}{2} \\end{bmatrix} \\bigg),~\n",
    "\\mathbf{N}_2 \\bigg( \n",
    "\\begin{bmatrix} -1 \\\\ 0 \\end{bmatrix}, \n",
    "\\begin{bmatrix}\n",
    "3 & -\\frac{1}{2} \\\\\n",
    "- \\frac{1}{2} & \\frac{1}{4}\n",
    "\\end{bmatrix} \\bigg),~\n",
    "\\mathbf{N}_3 \\bigg( \n",
    "\\begin{bmatrix}\n",
    "4 \\\\\n",
    "0\n",
    "\\end{bmatrix}, \n",
    "\\begin{bmatrix}\n",
    "\\frac{3}{2} & \\frac{1}{4} \\\\\n",
    "\\frac{1}{4} & \\frac{3}{2}\n",
    "\\end{bmatrix} \\bigg).\n",
    "$$\n",
    "\n",
    "* Za razvrščanje točk uporabite algoritem $k$-povprečij ter grafično primerjajte z referenčnimi oznakami.\n",
    "\n",
    "* Za razvrščanje uporabite model Gaussovih mešanic ter oznake izrišite. Primerjajte z razvrstitvijo prejšnje točke in rezultate komentirajte."
   ]
  },
  {
   "cell_type": "code",
   "execution_count": null,
   "metadata": {
    "nbgrader": {
     "grade": true,
     "grade_id": "cell-febd0dc9a714a844",
     "locked": false,
     "points": 20,
     "schema_version": 3,
     "solution": true,
     "task": false
    }
   },
   "outputs": [],
   "source": [
    "# YOUR CODE HERE"
   ]
  },
  {
   "cell_type": "markdown",
   "metadata": {
    "nbgrader": {
     "grade": false,
     "grade_id": "cell-4bb353175a9e981c",
     "locked": true,
     "schema_version": 3,
     "solution": false,
     "task": false
    }
   },
   "source": [
    "3\\.  Napišite funkcijo za razgradnjo MR slik glave z modelom Gaussovih mešanic:\n",
    "```python\n",
    "def BrainSegGMM( t1, t2, pd, mask, k):\n",
    "    return oS\n",
    "```\n",
    "kjer vhodni parametri `t1`, `t2` in `pd` predstavljajo 3D sivinske MR slike, zajete s T1-, T2- in PD-uteženo sekvenco, `k` število gruč. Vhodni parameter `mask` je binarna 3D slika maske možganskih struktur, kot v prvi nalogi. Postopek naj na področju maske razgradi sivinske vrednosti slike $y_i$ v tri gruče ($k=3$), ki ustrezajo treh možganskim strukturam CSF, GM in WM  na podlagi vseh treh vhodnih slik ($d=3$). Funkcija naj vrne 3D sliko oznak `oS`, ki ima enake dimenzije kot vhodne slike. \n",
    "\n",
    "* Prikažite prečni prerez $x \\times y \\times 90$ izhodne slike oznak `oS` in uporabite barvno kodiranje sivinskih vrednosti (npr. z barvno lestvico `jet`). Prerez primerjajte s prerezom referenčne razgradnje ter razgradnje s postokom $k$-povprečij, $k=3$. Komentirajte razgradnjo postopka.\n",
    "* Izračunajte volumen struktur $CSF$, $GM$ ter $WM$ za postopka razgradnje z GMM in $k$-povprečij ter ga podajte v mililitrih. Vrednosti primerjajte z volumnom referenčne razgradnje.\n",
    "* Število gruč nastavite na $k=4$ ter ponovite postopek razgradnje s GMM. Ali lahko s povečanjem števila gruč natančno razgradimo tudi lezije bele možganovine? Odgovor utemeljite s prikazom prečnega prereza $x \\times y \\times 90$ izhodne slike oznak ter primerjavo volumna lezij med razgradnjo s postopkom ter referenčno razgradnjo."
   ]
  },
  {
   "cell_type": "code",
   "execution_count": null,
   "metadata": {
    "nbgrader": {
     "grade": true,
     "grade_id": "cell-d021f5e75e9875a8",
     "locked": false,
     "points": 20,
     "schema_version": 3,
     "solution": true,
     "task": false
    }
   },
   "outputs": [],
   "source": [
    "# YOUR CODE HERE"
   ]
  }
 ],
 "metadata": {
  "celltoolbar": "Create Assignment",
  "kernelspec": {
   "display_name": "Python 3",
   "language": "python",
   "name": "python3"
  },
  "language_info": {
   "codemirror_mode": {
    "name": "ipython",
    "version": 3
   },
   "file_extension": ".py",
   "mimetype": "text/x-python",
   "name": "python",
   "nbconvert_exporter": "python",
   "pygments_lexer": "ipython3",
   "version": "3.6.9"
  }
 },
 "nbformat": 4,
 "nbformat_minor": 2
}
