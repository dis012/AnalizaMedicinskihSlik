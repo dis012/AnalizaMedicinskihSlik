{
 "cells": [
  {
   "cell_type": "markdown",
   "metadata": {
    "deletable": false,
    "editable": false,
    "nbgrader": {
     "grade": false,
     "grade_id": "cell-a9733ca692692449",
     "locked": true,
     "schema_version": 3,
     "solution": false,
     "task": false
    }
   },
   "source": [
    "## Analiza Medicinskih slik: laboratorijske vaje\n",
    "Predno oddate vašo rešitev jo najprej ustrezno preverite. Najprej **resetirajte Python jedro** (v meniju izberite Kernel$\\rightarrow$Restart) in potem **zaženite vse celice** (v meniju izberite Cell$\\rightarrow$Run All).\n",
    "\n",
    "Preverite ali ste nadomestili z vašo kodo oz. besedilom bloke, ki so označeni kot `YOUR CODE HERE` oz. \"YOUR ANSWER HERE\", kot tudi navedli vaše IME spodaj:"
   ]
  },
  {
   "cell_type": "code",
   "execution_count": null,
   "metadata": {},
   "outputs": [],
   "source": [
    "IME = \"\""
   ]
  },
  {
   "cell_type": "markdown",
   "metadata": {
    "nbgrader": {
     "grade": false,
     "grade_id": "cell-09dc0f7cf7875d76",
     "locked": true,
     "schema_version": 3,
     "solution": false,
     "task": false
    }
   },
   "source": [
    "# 1. Domača naloga\n",
    " Opravljanje domačih nalog je **obvezno**. Uspešno rešene domače naloge so **pogoj za pristop k izpitu**. Rok za oddajo je **nedelja 24. oktober ob 23:59**."
   ]
  },
  {
   "cell_type": "markdown",
   "metadata": {
    "nbgrader": {
     "grade": false,
     "grade_id": "cell-e2271ea23d936590",
     "locked": true,
     "schema_version": 3,
     "solution": false,
     "task": false
    }
   },
   "source": [
    "## Naloga 1\n",
    "\n",
    "### Prikazovanje 3D slik \n",
    "Pri delu z medicinskimi slikami se pogosto ukvarjamo s 3-dimenzionalnimi podatki. 3D zajem slike nam omogoča boljši vpogled v anatomijo in splošno razumevanje slikanega objekta. Med obdelavo 3D slik (odstranjevanje šuma, odstranjevanje prostorske nehomogenosti, poravnava, itd.) si želimo vmesne korake enostavno vizualizirati, denimo s prikazom sredinske ravnine v smeri vseh treh osi. \n",
    "\n",
    " <img src=\"data/brain-planes.gif\" alt=\"brain\" style=\"float;left;width: 700px;\"/>\n",
    "\n",
    "* Napišite funkcijo `Plot3DSlices`, ki kot vhod sprejme 3D sliko razreda `SimpleITK.Image` in kot izhod vrne prikaz slike v smeri vseh treh osi. Za prikaz uporabite knjižnico `matplotlib`. Pozorni bodite na orientacijo slike, ki naj bo takšna kot na spodnji sliki.\n",
    " <img src=\"data/brain-mri-image.png\" alt=\"brain planes\" style=\"float;left;width: 700px;\"/>\n",
    "\n",
    "* Preiskusite delovanje vaše funkcije na T1-uteženi MR sliki glave 'data/t1-brain-mri.nii.gz'.\n",
    "\n",
    "* Za odstranjevanje šuma iz slike uporabite poljubno funkcijo iz knjižice SimpleITK in prikažite sliko. Rezultate komentirajte.\n"
   ]
  },
  {
   "cell_type": "code",
   "execution_count": null,
   "metadata": {
    "nbgrader": {
     "grade": true,
     "grade_id": "cell-1641dc585b3945d6",
     "locked": false,
     "points": 20,
     "schema_version": 3,
     "solution": true,
     "task": false
    }
   },
   "outputs": [],
   "source": []
  },
  {
   "cell_type": "markdown",
   "metadata": {
    "nbgrader": {
     "grade": false,
     "grade_id": "cell-b1ce8da58363388d",
     "locked": true,
     "schema_version": 3,
     "solution": false,
     "task": false
    }
   },
   "source": [
    "## Naloga 2\n",
    "\n",
    "### Zmanjšanje prostorskih sivinskih nehomogenosti\n",
    "\n",
    "Knjižnica SimpleITK vključuje implementacijo popularnega postopka N4 za zmanjšanje prostorskih sivinskih nehomogenosti. Primer uporabe:\n",
    "```python\n",
    "# ustvari objekt\n",
    "corrector = N4BiasFieldCorrectionImageFilter()\n",
    "# nastavi število iteracij po nivojih\n",
    "corrector.SetMaximumNumberOfIterations([iMaxIter] * iNumLevels)\n",
    "# zaženi postopek, ki vrne obnovljeno sliko\n",
    "oImage = corrector.Execute(iImage, iMask)\n",
    "# izračunaj multiplikativni popravek\n",
    "oBiasField = itk.Divide(iImage, oImage)\n",
    "```\n",
    "kjer so vhodne spremeljivke `iImage`, `iMask`, `iMaxIter` in `iNumLevels`, ki prestavljajo vhodno sliko dimenzij $X \\times Y$, pripadajočo masko dimenzij $X \\times Y$, maskimalno število iteracij postopka v vsakem nivoju in število nivojev. Izhodni spremenljivki `oImage` in `oBiasField` prestavljata obnovljeno sliko dimenzij $X \\times Y$ in pripadajoče polje multiplikativnega popravka vhodne slike.\n",
    "\n",
    "* Preizkusite delovanje funkcije na mikroskopski sliki *misice-microscope.png*, pri čemer naj bo maska `iMask` enaka 1 na celotni vhodni sliki, parametra `iMaxIter` in `iNumLevels` pa nastavite sami. \n",
    "* Izrišite vhodno sliko, izhodno sliko ter multiplikativen popravek. \n",
    "* Kvalitativno preverite uspešnost odprave sivinskih nehomogenosti z izrisom 1D profila intenzitet po diagonali slike (npr. od levega gornjega do desnega spodnjega kota). Primerjajte profila intenzitet pred in po obnovi. Komentirajte dobljeni prikaz. \n",
    "* Mikroskopska slika prikazuje dva dominantna tipa mišičnih vlaken. Preverite ali se to odraža, in na kakšen način, na obliki katerega od histogramov intenzitet slike pred oziroma po obnovi in komentirajte histograma. "
   ]
  },
  {
   "cell_type": "code",
   "execution_count": null,
   "metadata": {
    "nbgrader": {
     "grade": true,
     "grade_id": "cell-c0e11e22b4dc3331",
     "locked": false,
     "points": 20,
     "schema_version": 3,
     "solution": true,
     "task": false
    }
   },
   "outputs": [],
   "source": []
  }
 ],
 "metadata": {
  "celltoolbar": "Create Assignment",
  "kernelspec": {
   "display_name": "Python 3",
   "language": "python",
   "name": "python3"
  },
  "language_info": {
   "codemirror_mode": {
    "name": "ipython",
    "version": 3
   },
   "file_extension": ".py",
   "mimetype": "text/x-python",
   "name": "python",
   "nbconvert_exporter": "python",
   "pygments_lexer": "ipython3",
   "version": "3.6.9"
  }
 },
 "nbformat": 4,
 "nbformat_minor": 2
}
