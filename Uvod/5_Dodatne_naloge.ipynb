{
 "cells": [
  {
   "cell_type": "markdown",
   "metadata": {
    "nbgrader": {
     "grade": false,
     "grade_id": "cell-a8892798ebaf519c",
     "locked": true,
     "schema_version": 3,
     "solution": false,
     "task": false
    }
   },
   "source": [
    "# Dodatne naloge\n",
    "Dodatne naloge naj služijo za poglobitev spretnosti programiranja, boljšemu razumevanju snovi in vsebine vaje in spoznavanju dodatnih načinov za obdelavo in analizo medicinskih slik. Opravljanje dodatnih nalog je neobvezno, vendar pa priporočljivo, saj je na nek način to priprava na zagovor laboratorijskih vaj."
   ]
  },
  {
   "cell_type": "markdown",
   "metadata": {
    "nbgrader": {
     "grade": false,
     "grade_id": "cell-867b5a9184984667",
     "locked": true,
     "schema_version": 3,
     "solution": false,
     "task": false
    }
   },
   "source": [
    "## Naloga 1\n",
    "Knjižnica SimpleITK vključuje implementacije različnih nelinearnih filtrov, ki ohranjajo robove v slikah in ki temeljijo na različnih principih, denimo anizotropna difuzija, bilateralni filter, nelokalno povprečenje. Preizkusite delovanje naslednjih treh funkcij: \n",
    "```python\n",
    "# anizotropna difuzija na podlagi operatorja ukrivljenosti\n",
    "CurvatureAnisotropicDiffusion(\n",
    "    img, timeStep, conductanceParameter, \n",
    "    conductanceScalingUpdateInterval, numberOfIterations)\n",
    "# bilateralni filter\n",
    "Bilateral(\n",
    "    img, domainSigma, rangeSigma, numberOfRangeGaussianSamples)\n",
    "# nelokalno povprečenje\n",
    "PatchBasedDenoising(\n",
    "    image1, noiseModel, kernelBandwidthSigma, patchRadius, \n",
    "    numberOfIterations, numberOfSamplePatches, sampleVariance,\n",
    "    noiseSigma, noiseModelFidelityWeight)\n",
    "```\n",
    "\n",
    "* Z uporabo dokumentacije knjižnice SimpleITK raziščite pomen parametrov in ustrezno nastavite vrednosti parametrov za vsako od posameznih funkcij.\n",
    "* Funkcije z vašimi nastavitvami parametrov preizkusite na 2D mikro CT sliki `data/zob-microct.png` in prikažite ter kritično ovrednotite ustreznost obnove slike. Pri tem si lahko pomagate z izrisom histograma intenzitet slike pred in po obnovi.\n",
    "* Kakovost obnovljenih 2D mikro CT slik lahko objektivno ovrednotite z oceno stopnje šuma na področjih slike s približno homogeno intenziteto. Stopnjo šuma naprimer ocenite z izračunom standardne deviacije intenzitet v izbranem področju s homogeno intenziteto. Primerjajte dobljeno vrednost pred in po obnovi. Na podlagi vrednosti te cenilke določite po vašem najboljši postopek/parametre za zmanjševanje šuma v slikah."
   ]
  },
  {
   "cell_type": "code",
   "execution_count": null,
   "metadata": {},
   "outputs": [],
   "source": [
    "# YOUR CODE HERE"
   ]
  }
 ],
 "metadata": {
  "celltoolbar": "Create Assignment",
  "kernelspec": {
   "display_name": "Python 3",
   "language": "python",
   "name": "python3"
  },
  "language_info": {
   "codemirror_mode": {
    "name": "ipython",
    "version": 3
   },
   "file_extension": ".py",
   "mimetype": "text/x-python",
   "name": "python",
   "nbconvert_exporter": "python",
   "pygments_lexer": "ipython3",
   "version": "3.6.9"
  }
 },
 "nbformat": 4,
 "nbformat_minor": 2
}
