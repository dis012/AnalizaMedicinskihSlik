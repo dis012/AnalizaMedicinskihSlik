{
 "cells": [
  {
   "cell_type": "markdown",
   "metadata": {
    "nbgrader": {
     "grade": false,
     "grade_id": "cell-8a4efacfdecf9f98",
     "locked": true,
     "schema_version": 3,
     "solution": false,
     "task": false
    }
   },
   "source": [
    "## Dodatne naloge\n",
    "Dodatne naloge naj služijo za poglobitev spretnosti programiranja, boljšemu razumevanju snovi in vsebine vaje in spoznavanju dodatnih načinov za obdelavo in analizo medicinskih slik. Opravljanje dodatnih nalog je neobvezno, vendar pa priporočljivo, saj je na nek način to priprava na zagovor laboratorijskih vaj."
   ]
  },
  {
   "cell_type": "markdown",
   "metadata": {
    "nbgrader": {
     "grade": false,
     "grade_id": "cell-14f87175bcf033a1",
     "locked": true,
     "schema_version": 3,
     "solution": false,
     "task": false
    }
   },
   "source": [
    "1. Z 2D togo preslikavo $(t_x, t_y, \\alpha) = (40 mm,\\, -20 mm,\\, 30^{\\circ})$  preslikajte 2D mrežo kontrolnih točk, ki ste jih ustvarili pri Nalogi 2 v navodilih s funkcijo `createCubicBSpline2DGrid()`. \n",
    "  - Izrišite polje deformacij v obliki vektorskega polja z ukazom `quiver` v knjižici `matplotlib.pyplot`.\n",
    "  - Sliko šahovnice iz Naloge 2 v navodilih preslikajte z dobljenim poljem deformacij in jo prikažite."
   ]
  },
  {
   "cell_type": "code",
   "execution_count": null,
   "metadata": {
    "nbgrader": {
     "grade": false,
     "grade_id": "cell-f42d291a5b8a3a95",
     "locked": false,
     "schema_version": 3,
     "solution": true,
     "task": false
    }
   },
   "outputs": [],
   "source": [
    "# YOUR CODE HERE"
   ]
  },
  {
   "cell_type": "code",
   "execution_count": null,
   "metadata": {
    "nbgrader": {
     "grade": true,
     "grade_id": "cell-5f0ef74504df8ff4",
     "locked": false,
     "points": 0,
     "schema_version": 3,
     "solution": true,
     "task": false
    }
   },
   "outputs": [],
   "source": [
    "# YOUR CODE HERE"
   ]
  },
  {
   "cell_type": "markdown",
   "metadata": {
    "nbgrader": {
     "grade": false,
     "grade_id": "cell-a4937dd15b953875",
     "locked": true,
     "schema_version": 3,
     "solution": false,
     "task": false
    }
   },
   "source": [
    "2. Analitično izračunajte odvode $d/du$ baznih funkcij kubičnih B-zlepkov $B_l(u), l=0,1,2,3$."
   ]
  },
  {
   "cell_type": "code",
   "execution_count": null,
   "metadata": {
    "nbgrader": {
     "grade": true,
     "grade_id": "cell-ef6e4f7c2482b580",
     "locked": false,
     "points": 0,
     "schema_version": 3,
     "solution": true,
     "task": false
    }
   },
   "outputs": [],
   "source": [
    "# YOUR ANSWER HERE"
   ]
  },
  {
   "cell_type": "markdown",
   "metadata": {
    "nbgrader": {
     "grade": false,
     "grade_id": "cell-11e3955fb8138874",
     "locked": true,
     "schema_version": 3,
     "solution": false,
     "task": false
    }
   },
   "source": [
    "3. Napišite funkcijo, ki za dano 2D mrežo kontrolnih točk kubičnih B-zlepkov izračuna polje Jacobijeve determinante:\n",
    "  ```python\n",
    "  def getJacobianDet(iImageSize, iCPx, iCPy, iStep):\n",
    "      return oJacDet\n",
    "  ```\n",
    "kjer je `iImageSize` vektor $1 \\times 2$ in podaja dimenzije slike $X \\times Y$, `iCPx` in `iCPy` polji kontrolnih točk za kubične B-zlepke z enakimi dimenzijami $n_x \\times n_y$, parameter `iStep` pa korak vzočenja $(\\delta_x,\\,\\delta_y)$ originalne mreže kontrolnih točk vzdolž $x$ in $y$ osi slike. Funkcija naj vrne dvorazsežno polje `oJacDet`, ki ima dimenzije kot jih podaja vhodni parameter `iImageSize`.\n",
    "  - Za kontrolne točke iz Dodatne naloge 1 prikažite polje Jacobijeve determinante kot barvno sliko z lestvico `jet` (primer na Sliki 3 v navodilih).\n",
    "  - Za kontrolne točke, ki ste jih ročno premaknili pri Nalogi 4 prikažite polje Jacobijeve determinante kot barvno sliko z lestvico `jet`.\n",
    "  - Izračunajte spremembo prostornine v \\% preko celotne slike za prejšnji dve točki.\t"
   ]
  },
  {
   "cell_type": "code",
   "execution_count": null,
   "metadata": {
    "nbgrader": {
     "grade": false,
     "grade_id": "cell-b4d21251bebe7d09",
     "locked": false,
     "schema_version": 3,
     "solution": true,
     "task": false
    }
   },
   "outputs": [],
   "source": [
    "# YOUR CODE HERE"
   ]
  },
  {
   "cell_type": "code",
   "execution_count": null,
   "metadata": {
    "nbgrader": {
     "grade": false,
     "grade_id": "cell-2964e6c8780616a8",
     "locked": false,
     "schema_version": 3,
     "solution": true,
     "task": false
    }
   },
   "outputs": [],
   "source": [
    "# YOUR CODE HERE"
   ]
  },
  {
   "cell_type": "code",
   "execution_count": null,
   "metadata": {
    "nbgrader": {
     "grade": false,
     "grade_id": "cell-3454e13ac076b267",
     "locked": false,
     "schema_version": 3,
     "solution": true,
     "task": false
    }
   },
   "outputs": [],
   "source": [
    "# YOUR CODE HERE"
   ]
  },
  {
   "cell_type": "markdown",
   "metadata": {
    "nbgrader": {
     "grade": false,
     "grade_id": "cell-908d67fa5bc0d404",
     "locked": true,
     "schema_version": 3,
     "solution": false,
     "task": false
    }
   },
   "source": [
    "4. Z netogo poravnavo iz Naloge 5 v navodilih, pri čemer so kontrolne točke B--zlepkov dane v spremenljivki \\verb+outTx+, lahko z naslednjimi ukazi pridobite polje deformacij:\n",
    "  ```python\n",
    "  # ustvari polje deformacij na osnovi kontrolnih točk\n",
    "  displacement = sitk.TransformToDisplacementField(\n",
    "      outTx,\n",
    "      size=fixed.GetSize(),\n",
    "      outputOrigin=fixed.GetOrigin(),\n",
    "      outputSpacing=fixed.GetSpacing(),\n",
    "      outputDirection=fixed.GetDirection()\n",
    "  )\n",
    "  # ustvari numpy.array polje\n",
    "  arr = sitk.GetArrayFromImage(...)\n",
    "  ```\n",
    "  - Podobno kot pri Dodatni nalogi 1 izrišite polje deformacij v obliki vektorskega polja z ukazom `quiver` v knjižici `matplotlib.pyplot`.\n",
    "  - Z ukazom `itk.DisplacementFieldJacobianDeterminant(displacement, True)` izračunajte polje Jacobijeve determinante in ga prikažite kot barvno sliko z lestvico `jet`.\n",
    "  - Izračunajte spremembo prostornine v \\% preko celotne slike za prejšnjo točko."
   ]
  },
  {
   "cell_type": "code",
   "execution_count": null,
   "metadata": {
    "nbgrader": {
     "grade": false,
     "grade_id": "cell-07d6e231074e7fb5",
     "locked": false,
     "schema_version": 3,
     "solution": true,
     "task": false
    }
   },
   "outputs": [],
   "source": [
    "# YOUR CODE HERE"
   ]
  },
  {
   "cell_type": "code",
   "execution_count": null,
   "metadata": {
    "nbgrader": {
     "grade": false,
     "grade_id": "cell-4631052114fa0774",
     "locked": false,
     "schema_version": 3,
     "solution": true,
     "task": false
    }
   },
   "outputs": [],
   "source": [
    "# YOUR CODE HERE"
   ]
  },
  {
   "cell_type": "code",
   "execution_count": null,
   "metadata": {
    "nbgrader": {
     "grade": false,
     "grade_id": "cell-0a4bff2189edd2d2",
     "locked": false,
     "schema_version": 3,
     "solution": true,
     "task": false
    }
   },
   "outputs": [],
   "source": [
    "# YOUR CODE HERE"
   ]
  }
 ],
 "metadata": {
  "celltoolbar": "Create Assignment",
  "kernelspec": {
   "display_name": "Python 3",
   "language": "python",
   "name": "python3"
  },
  "language_info": {
   "codemirror_mode": {
    "name": "ipython",
    "version": 3
   },
   "file_extension": ".py",
   "mimetype": "text/x-python",
   "name": "python",
   "nbconvert_exporter": "python",
   "pygments_lexer": "ipython3",
   "version": "3.6.9"
  }
 },
 "nbformat": 4,
 "nbformat_minor": 2
}
