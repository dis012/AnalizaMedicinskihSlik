{
 "cells": [
  {
   "cell_type": "markdown",
   "metadata": {
    "nbgrader": {
     "grade": false,
     "grade_id": "cell-54476ee313e7f7b8",
     "locked": true,
     "schema_version": 3,
     "solution": false,
     "task": false
    },
    "slideshow": {
     "slide_type": "slide"
    }
   },
   "source": [
    "# <center>Analiza medicinskih slik: laboratorijske vaje</center>\n",
    "\n",
    "\n",
    "<img src=\"data/naslovna.png\" alt=\"Analiza medicinskih slik\" style=\"float;left;width: 600px;\"/>\n",
    "\n",
    "\n",
    "## Potek laboratorijskih vaj\n",
    "\n",
    "* Prisotnost na laboratorijskih vajah je obvezna in se beleži.\n",
    "* Predmet vključuje **domače naloge**, **dodatne naloge** in kolokvije (2).\n",
    "* Domače naloge se **NE ocenjujejo** in niso pogoj za pristop k izpitu.\n",
    "* Dodatne naloge se **ne ocenjujejo**. Dodatne naloge naj služijo za poglobitev spretnosti programiranja, boljšemu razumevanju snovi in vsebine vaje in spoznavanju dodatnih načinov za obdelavo in analizo medicinskih slik.\n",
    "[//]: # (* Opravljanje dodatnih nalog je neobvezno, vendar pa priporočljivo, saj je na nek način to priprava na kolokvije.)\n",
    "* **Pogoj za prijavo na izpit** je pozitivna ocena iz vseh kolokvijev (skupaj najmanj 50 % in vsaj 30 % za posamezen kolokvij)\n",
    "   \n",
    "***"
   ]
  },
  {
   "cell_type": "markdown",
   "metadata": {
    "nbgrader": {
     "grade": false,
     "grade_id": "cell-ddfd6690c47a72f0",
     "locked": true,
     "schema_version": 3,
     "solution": false,
     "task": false
    }
   },
   "source": [
    "# Nekaj uporabnih povezav\n",
    "* Jupyter Notebook: https://jupyter-notebook.readthedocs.io/en/latest/notebook.html\n",
    "* A4 *plonk cegl'c* uporabnih bližnic: https://www.cheatography.com/weidadeyue/cheat-sheets/jupyter-notebook/pdf_bw/\n",
    "* Še bolj podrobna navodila: https://medium.com/edureka/jupyter-notebook-cheat-sheet-88f60d1aca7"
   ]
  }
 ],
 "metadata": {
  "celltoolbar": "Create Assignment",
  "kernelspec": {
   "display_name": "Python 3",
   "language": "python",
   "name": "python3"
  },
  "language_info": {
   "codemirror_mode": {
    "name": "ipython",
    "version": 3
   },
   "file_extension": ".py",
   "mimetype": "text/x-python",
   "name": "python",
   "nbconvert_exporter": "python",
   "pygments_lexer": "ipython3",
   "version": "3.6.9"
  },
  "varInspector": {
   "cols": {
    "lenName": 16,
    "lenType": 16,
    "lenVar": 40
   },
   "kernels_config": {
    "python": {
     "delete_cmd_postfix": "",
     "delete_cmd_prefix": "del ",
     "library": "var_list.py",
     "varRefreshCmd": "print(var_dic_list())"
    },
    "r": {
     "delete_cmd_postfix": ") ",
     "delete_cmd_prefix": "rm(",
     "library": "var_list.r",
     "varRefreshCmd": "cat(var_dic_list()) "
    }
   },
   "types_to_exclude": [
    "module",
    "function",
    "builtin_function_or_method",
    "instance",
    "_Feature"
   ],
   "window_display": false
  }
 },
 "nbformat": 4,
 "nbformat_minor": 2
}
